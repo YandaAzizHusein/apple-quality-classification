{
  "nbformat": 4,
  "nbformat_minor": 0,
  "metadata": {
    "colab": {
      "provenance": [],
      "authorship_tag": "ABX9TyMzMf7/nYEIhav/hwJcxqvR",
      "include_colab_link": true
    },
    "kernelspec": {
      "name": "python3",
      "display_name": "Python 3"
    },
    "language_info": {
      "name": "python"
    }
  },
  "cells": [
    {
      "cell_type": "markdown",
      "metadata": {
        "id": "view-in-github",
        "colab_type": "text"
      },
      "source": [
        "<a href=\"https://colab.research.google.com/github/YandaAzizHusein/apple-quality-classification/blob/main/apple_.ipynb\" target=\"_parent\"><img src=\"https://colab.research.google.com/assets/colab-badge.svg\" alt=\"Open In Colab\"/></a>"
      ]
    },
    {
      "cell_type": "markdown",
      "source": [
        "# Apple Quality Classification - Yanda Aziz Husein\n"
      ],
      "metadata": {
        "id": "sGn9ehvJ0tAd"
      }
    },
    {
      "cell_type": "markdown",
      "source": [
        "##**A. Domain Proyek**"
      ],
      "metadata": {
        "id": "qA-AGNgntpUl"
      }
    },
    {
      "cell_type": "markdown",
      "source": [
        "Perkembangan sektor pertanian modern ditandai oleh meningkatnya volume produksi dan tuntutan pasar global terhadap mutu hasil pertanian yang konsisten. Dalam industri hortikultura, khususnya buah apel, kualitas menjadi faktor utama yang menentukan nilai jual, penerimaan pasar, dan daya saing produk. Namun, proses penilaian mutu yang masih dilakukan secara manual melalui observasi visual bersifat subjektif, sulit distandarisasi, serta kurang efisien dalam skala industri besar (Fadiji et al., 2023). Variasi penilaian antarpekerja sering menimbulkan ketidakkonsistenan dan meningkatkan risiko kesalahan klasifikasi mutu.\n",
        "\n",
        "Seiring berkembangnya konsep precision agriculture, dibutuhkan inovasi berbasis teknologi data yang mampu menghasilkan evaluasi mutu secara objektif, cepat, dan berkelanjutan. Integrasi kecerdasan buatan (Artificial Intelligence / AI) dan machine learning telah terbukti meningkatkan akurasi penilaian hasil panen serta mengurangi ketergantungan terhadap faktor manusia (Grabska et al., 2023). Ketidakefisienan metode manual juga berdampak pada rantai pasok: kesalahan klasifikasi dapat mencampur produk premium dan non-premium, menurunkan reputasi produsen, serta menimbulkan kerugian ekonomi. Oleh karena itu, dibutuhkan sistem otomatis yang adaptif terhadap variasi lingkungan dan varietas buah untuk mendukung praktik pertanian cerdas yang efisien dan berkelanjutan (Kavuncuoğlu et al., 2023).\n",
        "\n",
        "Proyek ini mengimplementasikan algoritma machine learning berbasis data numerik dari Apple Quality Dataset (Nelgiriyewithana, n.d.) untuk mengklasifikasikan mutu buah apel secara otomatis berdasarkan fitur fisik dan sensorik seperti Size, Weight, Sweetness, Crunchiness, Juiciness, Ripeness, dan Acidity. Tiga model supervised learning diterapkan — Logistic Regression, Random Forest, dan XGBoost — dengan evaluasi menggunakan pembagian data train–test (80:20) serta metrik accuracy, precision, recall, dan F1-score. Pendekatan ini didukung oleh berbagai studi yang menunjukkan efektivitas algoritma decision tree ensembles dalam memprediksi mutu buah secara non-destruktif (Grabska et al., 2023; Kavuncuoğlu et al., 2023).\n",
        "\n",
        "Melalui proyek ini, penilaian kualitas apel dapat dilakukan secara lebih cepat, akurat, dan konsisten. Selain itu, hasil penelitian ini diharapkan mendukung transformasi menuju data-driven smart agriculture yang objektif, efisien, dan berkelanjutan.\n",
        "\n",
        "---\n",
        "\n",
        "### Referensi\n",
        "\n",
        "Fadiji, T., Bokaba, T., Fawole, O. A., & Twinomurinzi, H. (2023). *Artificial intelligence in postharvest agriculture: Mapping a global research agenda*. Frontiers in Sustainable Food Systems, 7, 1226583. https://doi.org/10.3389/fsufs.2023.1226583  \n",
        "\n",
        "Grabska, J., Niewiadomska, A., & Wójcik, M. (2023). *Analyzing the quality parameters of apples by spectroscopy from Vis/NIR to NIR region: A comprehensive review*. Foods, 12(9), 1770. https://doi.org/10.3390/foods12091770  \n",
        "\n",
        "Kavuncuoğlu, E., Yetkin, M., Özdemir, E., & Ozturk, M. (2023). *Exploration of machine learning algorithms for pH and moisture prediction in apples using VIS-NIR imaging*. Applied Sciences, 13(16), 8391. https://doi.org/10.3390/app13168391  \n",
        "\n",
        "Nelgiriyewithana, W. (n.d.). *Apple Quality Dataset*. Kaggle. Retrieved October 19, 2025, from https://www.kaggle.com/datasets/nelgiriyewithana/apple-quality/data  \n"
      ],
      "metadata": {
        "id": "dzo3yY4-swU_"
      }
    },
    {
      "cell_type": "markdown",
      "source": [
        "##**B. Business Understanding**\n"
      ],
      "metadata": {
        "id": "wqf0_kUUtpI_"
      }
    },
    {
      "cell_type": "markdown",
      "source": [
        "### 1. Problem Statements  \n",
        "Berdasarkan latar belakang di atas, dapat dirumuskan beberapa permasalahan utama:\n",
        "- Bagaimana membangun model machine learning yang mampu **mengklasifikasikan kualitas apel (good/bad)** berdasarkan karakteristik hasil pengukuran sensor?  \n",
        "- Bagaimana memastikan model memiliki **akurasi yang cukup tinggi dan stabil** agar layak diterapkan pada proses industri?  \n"
      ],
      "metadata": {
        "id": "FFAkELBMDpDK"
      }
    },
    {
      "cell_type": "markdown",
      "source": [
        "### 2. Goals  \n",
        "Tujuan dari proyek ini adalah untuk:\n",
        "- Mengembangkan model machine learning yang dapat **memperkirakan kualitas apel secara otomatis** berdasarkan fitur numerik hasil sensor.  \n",
        "- **Membandingkan performa beberapa algoritma klasifikasi** untuk memperoleh model terbaik.  \n",
        "- Memberikan dasar bagi pengembangan sistem **sortasi buah otomatis berbasis kecerdasan buatan** di lingkungan industri pertanian.  \n"
      ],
      "metadata": {
        "id": "kK0-emg_DsaS"
      }
    },
    {
      "cell_type": "markdown",
      "source": [
        "### 3. Solution Statements\n",
        "- Dataset *Apple Quality* dari Kaggle digunakan untuk pelatihan dan pengujian dengan rasio *train–test* 80:20.  \n",
        "- Proyek ini menggunakan pendekatan *supervised learning* dengan tiga algoritma utama: **Logistic Regression**, **Random Forest**, dan **XGBoost**.  \n",
        "- Evaluasi dilakukan menggunakan metrik *accuracy*, *precision*, *recall*, dan *F1-score* untuk menentukan model terbaik yang efisien dan siap diterapkan pada sistem evaluasi mutu apel otomatis."
      ],
      "metadata": {
        "id": "UAaKFKC7AcQW"
      }
    },
    {
      "cell_type": "markdown",
      "source": [
        "## **C.import Library**"
      ],
      "metadata": {
        "id": "4bjQyF-ks8Xw"
      }
    },
    {
      "cell_type": "markdown",
      "source": [
        "Bagian ini memuat seluruh library yang digunakan dalam proses analisis dan pengembangan model klasifikasi kualitas apel.  \n",
        "Struktur impor disusun berdasarkan tahapan utama dalam pipeline *machine learning* agar kode lebih modular, efisien, dan mudah direproduksi."
      ],
      "metadata": {
        "id": "R3d_FJSoRlzc"
      }
    },
    {
      "cell_type": "code",
      "source": [
        "import kagglehub\n",
        "import os\n",
        "\n",
        "# Manipulasi dan analisis data\n",
        "import pandas as pd\n",
        "import numpy as np\n",
        "\n",
        "# Visualisasi\n",
        "import matplotlib.pyplot as plt\n",
        "import seaborn as sns\n",
        "\n",
        "# Preprocessing\n",
        "from sklearn.impute import SimpleImputer\n",
        "from sklearn.preprocessing import StandardScaler\n",
        "from sklearn.model_selection import train_test_split\n",
        "\n",
        "# Models\n",
        "from sklearn.linear_model import LogisticRegression\n",
        "from sklearn.ensemble import RandomForestClassifier\n",
        "import xgboost as xgb\n",
        "\n",
        "# Evaluasi\n",
        "from sklearn.metrics import accuracy_score, classification_report, confusion_matrix"
      ],
      "metadata": {
        "id": "0t0v8Ab9utSS"
      },
      "execution_count": 1,
      "outputs": []
    },
    {
      "cell_type": "markdown",
      "source": [
        "##**D. Data Understanding**\n",
        "\n",
        "Dataset yang digunakan dalam proyek ini berasal dari **Kaggle**, berjudul *Apple Quality Dataset* yang dibuat oleh **Nidula Elgiriyewithana**.  \n",
        "Sumber: [https://www.kaggle.com/datasets/nelgiriyewithana/apple-quality](https://www.kaggle.com/datasets/nelgiriyewithana/apple-quality)  \n",
        "\n",
        "Dataset ini berisi data kuantitatif mengenai karakteristik buah apel, dengan total **4.000 sampel** dan **9 fitur numerik dan kategorikal**.  \n",
        "Tujuannya adalah untuk memprediksi kualitas apel (*good* atau *bad*) berdasarkan atribut fisik dan rasa.\n",
        "\n",
        "---\n",
        "### Deskripsi Fitur\n",
        "\n",
        "| **Fitur** | **Deskripsi** |\n",
        "|:-----------|:--------------|\n",
        "| `A_id` | Identitas unik untuk setiap buah apel |\n",
        "| `Size` | Ukuran buah apel |\n",
        "| `Weight` | Berat buah apel |\n",
        "| `Sweetness` | Tingkat kemanisan buah |\n",
        "| `Crunchiness` | Tekstur yang menunjukkan tingkat kerenyahan buah |\n",
        "| `Juiciness` | Tingkat kadar air atau kejuicyaan buah |\n",
        "| `Ripeness` | Tahap atau tingkat kematangan buah |\n",
        "| `Acidity` | Tingkat keasaman buah |\n",
        "| `Quality` | Kualitas keseluruhan buah (baik atau buruk) |\n",
        "\n",
        "\n",
        "---\n",
        "\n",
        "###  Ringkasan Dataset\n",
        "\n",
        "- Jumlah data: **4.000 baris × 9 kolom**  \n",
        "- Distribusi target: **seimbang** antara *good* (50%) dan *bad* (50%)  \n",
        "- Missing values: **tidak ditemukan**  \n",
        "- Data telah melalui proses **normalisasi (scaled)** oleh penyedia dataset  \n",
        "\n"
      ],
      "metadata": {
        "id": "8lBd-04buMjg"
      }
    },
    {
      "cell_type": "markdown",
      "source": [
        "### 1. Mengunduh Dataset  \n",
        "- Dataset diunduh dari Kaggle menggunakan modul `kagglehub` untuk memperoleh data yang akan digunakan dalam proses analisis dan pemodelan.  \n",
        "- Setelah diunduh, dilakukan pengecekan lokasi dan isi folder guna memastikan file dataset tersedia dengan benar sebelum dimuat ke dalam pandas.\n"
      ],
      "metadata": {
        "id": "Sx-GRmm9xW5H"
      }
    },
    {
      "cell_type": "code",
      "source": [
        "# Download dataset\n",
        "path = kagglehub.dataset_download(\"nelgiriyewithana/apple-quality\")\n",
        "\n",
        "# Cek lokasi dan isi folder\n",
        "print(\"Path ke dataset:\", path)\n",
        "print(\"Isi folder:\", os.listdir(path))"
      ],
      "metadata": {
        "id": "UVpEKl1ayRX_"
      },
      "execution_count": null,
      "outputs": []
    },
    {
      "cell_type": "markdown",
      "source": [
        "### 2. Memuat Dataset ke dalam Pandas DataFrame  \n",
        "Setelah memastikan file tersedia, dataset dimuat ke dalam `pandas DataFrame` menggunakan fungsi `read_csv()`.  \n",
        "Langkah ini dilakukan agar data lebih mudah diolah dan dianalisis pada tahap selanjutnya.\n"
      ],
      "metadata": {
        "id": "kQxitNEf0RDL"
      }
    },
    {
      "cell_type": "code",
      "execution_count": null,
      "metadata": {
        "id": "eaVxSXQOR_7P"
      },
      "outputs": [],
      "source": [
        "# Load CSV (ganti nama file sesuai hasil os.listdir, biasanya 'apple_quality.csv')\n",
        "df = pd.read_csv(os.path.join(path, \"apple_quality.csv\"))"
      ]
    },
    {
      "cell_type": "markdown",
      "source": [
        "### 3. Eksplorasi Awal Dataset  \n",
        "Tahap ini menampilkan beberapa informasi dasar mengenai dataset menggunakan fungsi `head()`, `info()`, dan `describe()`.  \n",
        "Langkah ini bertujuan untuk memahami struktur data, tipe setiap kolom, serta gambaran statistik awal sebelum dilakukan pembersihan dan pemrosesan lebih lanjut.\n"
      ],
      "metadata": {
        "id": "TNhKyUgP0vib"
      }
    },
    {
      "cell_type": "code",
      "source": [
        "df.head() # Menampilkan 5 data teratas"
      ],
      "metadata": {
        "id": "cjHcIQoJXhds"
      },
      "execution_count": null,
      "outputs": []
    },
    {
      "cell_type": "code",
      "source": [
        "df.info() # Menampilkan informasi struktur dataset\n",
        "df.describe() # Menampilkan statistik deskriptif dataset"
      ],
      "metadata": {
        "id": "yp4yOLxXoSqX"
      },
      "execution_count": null,
      "outputs": []
    },
    {
      "cell_type": "markdown",
      "source": [
        "### 4. Pemeriksaan Data Hilang dan Duplikat  \n",
        "\n",
        "Pengecekan dilakukan terhadap kemungkinan adanya nilai yang hilang (*missing values*) dan data ganda (*duplicates*) agar dataset yang digunakan bersih dan valid.\n"
      ],
      "metadata": {
        "id": "17F4AllV2mAg"
      }
    },
    {
      "cell_type": "code",
      "source": [
        "df.isnull().sum() # Memeriksa jumlah missing value pada setiap kolom dataset"
      ],
      "metadata": {
        "id": "Pd_QqBbSoQ2Y"
      },
      "execution_count": null,
      "outputs": []
    },
    {
      "cell_type": "code",
      "source": [
        "df.duplicated().sum()# Memeriksa jumlah data duplikat dalam dataset"
      ],
      "metadata": {
        "id": "guBsJIZgoUq-"
      },
      "execution_count": null,
      "outputs": []
    },
    {
      "cell_type": "markdown",
      "source": [
        "### 5. Analisis Distribusi Label Target  \n",
        "Menampilkan proporsi kategori *good* dan *bad* pada kolom **Quality** untuk memastikan keseimbangan data.\n"
      ],
      "metadata": {
        "id": "JlJ2ZFV58RHq"
      }
    },
    {
      "cell_type": "code",
      "source": [
        "df['Quality'].value_counts().plot(kind='bar', color=['skyblue', 'salmon']) # Menampilkan distribusi kategori pada kolom target\n",
        "plt.title('Distribusi Label Target (Quality)')\n",
        "plt.xlabel('Kategori')\n",
        "plt.ylabel('Jumlah')\n",
        "plt.show()"
      ],
      "metadata": {
        "id": "WH71IBe6oYmX"
      },
      "execution_count": null,
      "outputs": []
    },
    {
      "cell_type": "markdown",
      "source": [
        "### 6. Konversi Data dan Analisis Korelasi  \n",
        "- Beberapa kolom dikonversi menjadi format numerik agar dapat disertakan dalam analisis korelasi.  \n",
        "- Setelah itu, dilakukan visualisasi *heatmap* untuk melihat hubungan antarfitur dan tingkat korelasinya terhadap label **Quality**.\n"
      ],
      "metadata": {
        "id": "O80skouQ9pTI"
      }
    },
    {
      "cell_type": "code",
      "source": [
        "# Mengonversi kolom Quality menjadi format numerik (good → 1, bad → 0)\n",
        "df['Quality_num'] = df['Quality'].map({'good': 1, 'bad': 0})\n",
        "\n",
        "# Mengubah kolom Acidity menjadi tipe data numerik\n",
        "df['Acidity'] = pd.to_numeric(df['Acidity'], errors='coerce')\n",
        "\n",
        "# Memverifikasi hasil konversi data\n",
        "print(df['Quality'].unique())\n",
        "print(df['Quality_num'].value_counts())"
      ],
      "metadata": {
        "id": "ZcjJlVZXh4jE"
      },
      "execution_count": null,
      "outputs": []
    },
    {
      "cell_type": "code",
      "source": [
        "# Menghitung matriks korelasi antar fitur numerik\n",
        "corr = df.corr(numeric_only=True)\n",
        "\n",
        "# Menampilkan heatmap korelasi\n",
        "plt.figure(figsize=(10, 8))\n",
        "sns.heatmap(corr, annot=True, fmt=\".2f\", cmap=\"coolwarm\", center=0)\n",
        "plt.title(\"Heatmap Korelasi Fitur Apple Quality\")\n",
        "plt.show()"
      ],
      "metadata": {
        "id": "9pE1TaP8jB6c"
      },
      "execution_count": null,
      "outputs": []
    },
    {
      "cell_type": "markdown",
      "source": [
        "Berdasarkan hasil *heatmap* korelasi, fitur **Size (r = 0.24)**, **Sweetness (r = 0.25)**, dan **Juiciness (r = 0.26)** memiliki hubungan positif yang paling kuat terhadap kualitas apel, menunjukkan bahwa apel dengan ukuran lebih besar, rasa lebih manis, dan tingkat kejuicyaan tinggi cenderung diklasifikasikan sebagai *good quality*. Sebaliknya, **Ripeness (r = -0.26)** menunjukkan korelasi negatif, menandakan tingkat kematangan berlebih dapat menurunkan mutu buah. Fitur lain seperti **Weight**, **Crunchiness**, dan **Acidity** memiliki korelasi sangat rendah terhadap target, sehingga dianggap tidak berkontribusi signifikan terhadap model. Dengan demikian, fitur yang paling relevan untuk pemodelan selanjutnya adalah **Size**, **Sweetness**, **Juiciness**, dan **Ripeness**.\n"
      ],
      "metadata": {
        "id": "r9VmndV4jiEK"
      }
    },
    {
      "cell_type": "code",
      "source": [
        "df"
      ],
      "metadata": {
        "id": "xga_Y4RSsSwH"
      },
      "execution_count": null,
      "outputs": []
    },
    {
      "cell_type": "markdown",
      "source": [
        "## **E. Data Preparation**\n",
        "Tahap ini bertujuan untuk menyiapkan dataset agar siap digunakan dalam proses pemodelan machine learning. Proses ini meliputi pembersihan data, pemilihan fitur yang relevan, serta pembagian data menjadi data latih dan data uji. Langkah-langkah pada tahap ini dilakukan untuk memastikan bahwa data yang digunakan bersih, terstruktur, dan representatif terhadap permasalahan yang akan diselesaikan.\n"
      ],
      "metadata": {
        "id": "GIKjDQcoo78y"
      }
    },
    {
      "cell_type": "markdown",
      "source": [
        "### 1. Pembersihan Data  \n",
        "Tahap ini dilakukan untuk memastikan dataset bersih dan layak digunakan dalam proses pemodelan.\n",
        "Langkah-langkah yang dilakukan meliputi:\n",
        "\n",
        "- Menghapus kolom yang tidak relevan atau memiliki korelasi rendah terhadap variabel target yaitu A_id, Weight, Crunchiness, dan Acidity.\n",
        "\n",
        "- Menghapus kolom Quality karena telah dikonversi ke dalam bentuk numerik (Quality_num).\n",
        "\n",
        "- Menghapus baris terakhir yang berisi informasi non-data seperti teks “created by”.\n",
        "\n",
        "- Menghapus baris yang mengandung nilai kosong (NaN) untuk menjaga konsistensi dan integritas data.\n"
      ],
      "metadata": {
        "id": "oREhlBgWrERI"
      }
    },
    {
      "cell_type": "code",
      "source": [
        "# Menghapus kolom yang tidak relevan atau memiliki korelasi rendah\n",
        "df.drop([\n",
        "    'Quality',       # Sudah dikonversi ke format numerik (Quality_num)\n",
        "    'A_id',          # Kolom identitas, tidak berpengaruh terhadap prediksi\n",
        "    'Weight',        # Fitur dengan korelasi rendah terhadap target\n",
        "    'Crunchiness',   # Fitur dengan korelasi rendah terhadap target\n",
        "    'Acidity'        # Fitur dengan korelasi rendah terhadap target\n",
        "], axis=1, inplace=True)\n",
        "\n",
        "# Menghapus baris terakhir pada dataset\n",
        "df = df.drop(df.index[-1])\n",
        "\n",
        "# Menghapus baris yang mengandung nilai kosong (NaN)\n",
        "df = df.dropna()"
      ],
      "metadata": {
        "id": "Ahx6DVo48Azh"
      },
      "execution_count": null,
      "outputs": []
    },
    {
      "cell_type": "markdown",
      "source": [
        "### 2. Pemisahan Fitur dan Data Uji  \n",
        "Memisahkan variabel fitur (X) dan target (y), kemudian membagi data menjadi 80% untuk pelatihan dan 20% untuk pengujian guna menjaga proporsi kelas dan validitas evaluasi model.\n"
      ],
      "metadata": {
        "id": "yHbOWgz9srOH"
      }
    },
    {
      "cell_type": "code",
      "source": [
        "# Memisahkan fitur (X) dan target (y)\n",
        "X = df.drop(columns=['Quality', 'Quality_num'], errors='ignore')\n",
        "y = df['Quality_num']\n",
        "\n",
        "# Membagi data menjadi data latih (80%) dan data uji (20%)\n",
        "X_train, X_test, y_train, y_test = train_test_split(\n",
        "    X, y,\n",
        "    test_size=0.2,\n",
        "    random_state=42,\n",
        "    stratify=y  # Menjaga proporsi kelas tetap seimbang\n",
        ")\n",
        "\n",
        "# Menampilkan ukuran data latih dan uji\n",
        "print(\"Train shape:\", X_train.shape, y_train.shape)\n",
        "print(\"Test  shape:\", X_test.shape, y_test.shape)"
      ],
      "metadata": {
        "id": "IUgrPOpEonE2"
      },
      "execution_count": null,
      "outputs": []
    },
    {
      "cell_type": "markdown",
      "source": [
        "###3. Hasil Preparation\n",
        "\n",
        "Dataset kini berisi 4.000 baris dan 5 kolom, yang terdiri dari empat fitur utama (Size, Sweetness, Juiciness, Ripeness) serta satu label target (Quality_num).\n",
        "Seluruh kolom kini bertipe numerik dan siap digunakan dalam proses pelatihan model machine learning."
      ],
      "metadata": {
        "id": "8cEZCrZeXDri"
      }
    },
    {
      "cell_type": "markdown",
      "source": [
        "##**F. Modelling**"
      ],
      "metadata": {
        "id": "nLCWtVyapUj1"
      }
    },
    {
      "cell_type": "code",
      "source": [
        "# Logistic Regression\n",
        "logreg = LogisticRegression(max_iter=1000, random_state=42)\n",
        "logreg.fit(X_train, y_train)\n",
        "y_pred_logreg = logreg.predict(X_test)"
      ],
      "metadata": {
        "id": "iswMmTkgupb8"
      },
      "execution_count": null,
      "outputs": []
    },
    {
      "cell_type": "code",
      "source": [
        "# Random Forest\n",
        "rf = RandomForestClassifier(n_estimators=200, random_state=42)\n",
        "rf.fit(X_train, y_train)\n",
        "y_pred_rf = rf.predict(X_test)"
      ],
      "metadata": {
        "id": "q_ieOk9EusDE"
      },
      "execution_count": null,
      "outputs": []
    },
    {
      "cell_type": "code",
      "source": [
        "# XGBoost\n",
        "xgb_model = xgb.XGBClassifier(eval_metric='logloss')\n",
        "xgb_model.fit(X_train, y_train)\n",
        "y_pred_xgb = xgb_model.predict(X_test)"
      ],
      "metadata": {
        "id": "kxBtWg-o8SMk"
      },
      "execution_count": null,
      "outputs": []
    },
    {
      "cell_type": "markdown",
      "source": [
        "##**G. Evaluation**\n",
        "Evaluasi dilakukan untuk mengukur performa model dalam memprediksi kualitas apel berdasarkan data uji. Metrik yang digunakan meliputi akurasi, classification report, dan confusion matrix untuk menilai sejauh mana model mampu membedakan kelas good dan bad secara tepat.\n",
        "- Akurasi mengukur proporsi prediksi yang benar terhadap seluruh data uji sebagai indikator performa umum.\n",
        "- Classification report memberikan rincian nilai precision, recall, dan F1-score, yang masing-masing merepresentasikan ketepatan prediksi, kemampuan mengenali kelas sebenarnya, serta keseimbangan antara keduanya.\n",
        "- Sementara itu, confusion matrix menggambarkan distribusi prediksi benar dan salah pada setiap kelas, sehingga memudahkan analisis terhadap pola kesalahan model.\n",
        "\n",
        "Secara keseluruhan, kombinasi ketiga metrik tersebut memberikan gambaran komprehensif mengenai efektivitas model dalam melakukan klasifikasi kualitas apel secara akurat dan konsisten."
      ],
      "metadata": {
        "id": "e1B89caBxvcA"
      }
    },
    {
      "cell_type": "code",
      "source": [
        "# Fungsi evaluasi model\n",
        "def evaluate_model(name, y_true, y_pred):\n",
        "    print(f\"\\n=== {name} ===\")\n",
        "    print(f\"Akurasi: {accuracy_score(y_true, y_pred):.4f}\")\n",
        "    print(\"Classification Report:\")\n",
        "    print(classification_report(y_true, y_pred, digits=4))\n",
        "    sns.heatmap(confusion_matrix(y_true, y_pred), annot=True, fmt='d', cmap='Blues')\n",
        "    plt.title(f\"Confusion Matrix - {name}\")\n",
        "    plt.show()"
      ],
      "metadata": {
        "id": "eIFzUuRJxqfI"
      },
      "execution_count": null,
      "outputs": []
    },
    {
      "cell_type": "code",
      "source": [
        "evaluate_model(\"Logistic Regression\", y_test, y_pred_logreg)"
      ],
      "metadata": {
        "id": "gyZjbfeNyKDS"
      },
      "execution_count": null,
      "outputs": []
    },
    {
      "cell_type": "code",
      "source": [
        "evaluate_model(\"Random Forest\", y_test, y_pred_rf)"
      ],
      "metadata": {
        "id": "UtbLMk6qyOaf"
      },
      "execution_count": null,
      "outputs": []
    },
    {
      "cell_type": "code",
      "source": [
        "evaluate_model(\"XGBoost\", y_test, y_pred_xgb)"
      ],
      "metadata": {
        "id": "6bVmL3fwyQ2y"
      },
      "execution_count": null,
      "outputs": []
    },
    {
      "cell_type": "markdown",
      "source": [
        "##**H. Kesimpulan**"
      ],
      "metadata": {
        "id": "b_tVGv0CmbV3"
      }
    },
    {
      "cell_type": "markdown",
      "source": [
        "Proyek Apple Quality Classification berhasil mengimplementasikan algoritma machine learning untuk mengklasifikasikan mutu apel berdasarkan karakteristik fisik dan sensorik. Melalui tahapan terstruktur mulai dari pemahaman masalah, eksplorasi data, pembersihan, pemodelan, hingga evaluasi, diperoleh hasil bahwa model XGBoost memberikan performa terbaik dengan akurasi 77,8%, mengungguli Random Forest dan Logistic Regression.\n",
        "\n",
        "Analisis korelasi menunjukkan bahwa fitur Size, Sweetness, Juiciness, dan Ripeness memiliki pengaruh dominan terhadap kualitas apel, sedangkan Weight, Crunchiness, dan Acidity berkontribusi rendah. Temuan ini memperkuat bahwa atribut fisik dan rasa merupakan faktor utama dalam menentukan mutu buah.\n",
        "\n",
        "Secara keseluruhan, penerapan machine learning terbukti mampu meningkatkan efisiensi dan objektivitas proses penilaian mutu hasil pertanian. Ke depan, model dapat dioptimalkan melalui hyperparameter tuning untuk meningkatkan akurasi dan generalisasi, serta dikembangkan dengan menambahkan fitur berbasis citra atau sensor non-destruktif agar sistem klasifikasi lebih adaptif terhadap kondisi nyata di industri pertanian modern."
      ],
      "metadata": {
        "id": "Vzrj0Zh9bkiO"
      }
    }
  ]
}