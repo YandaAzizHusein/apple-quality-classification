{
  "nbformat": 4,
  "nbformat_minor": 0,
  "metadata": {
    "colab": {
      "provenance": [],
      "authorship_tag": "ABX9TyMzMf7/nYEIhav/hwJcxqvR",
      "include_colab_link": true
    },
    "kernelspec": {
      "name": "python3",
      "display_name": "Python 3"
    },
    "language_info": {
      "name": "python"
    }
  },
  "cells": [
    {
      "cell_type": "markdown",
      "metadata": {
        "id": "view-in-github",
        "colab_type": "text"
      },
      "source": [
        "<a href=\"https://colab.research.google.com/github/YandaAzizHusein/apple-quality-classification/blob/main/apple_.ipynb\" target=\"_parent\"><img src=\"https://colab.research.google.com/assets/colab-badge.svg\" alt=\"Open In Colab\"/></a>"
      ]
    },
    {
      "cell_type": "markdown",
      "source": [
        "# Apple Quality Classification - Yanda Aziz Husein\n"
      ],
      "metadata": {
        "id": "sGn9ehvJ0tAd"
      }
    },
    {
      "cell_type": "markdown",
      "source": [
        "##**A. Domain Proyek**"
      ],
      "metadata": {
        "id": "qA-AGNgntpUl"
      }
    },
    {
      "cell_type": "markdown",
      "source": [
        "Perkembangan sektor pertanian modern ditandai oleh meningkatnya volume produksi dan tuntutan pasar global terhadap mutu hasil pertanian yang konsisten. Dalam industri hortikultura, khususnya buah apel, kualitas menjadi faktor utama yang menentukan nilai jual, penerimaan pasar, dan daya saing produk. Namun, proses penilaian mutu yang masih dilakukan secara manual melalui observasi visual bersifat subjektif, sulit distandarisasi, serta kurang efisien dalam skala industri besar (Fadiji et al., 2023). Variasi penilaian antarpekerja sering menimbulkan ketidakkonsistenan dan meningkatkan risiko kesalahan klasifikasi mutu.\n",
        "\n",
        "Seiring berkembangnya konsep precision agriculture, dibutuhkan inovasi berbasis teknologi data yang mampu menghasilkan evaluasi mutu secara objektif, cepat, dan berkelanjutan. Integrasi kecerdasan buatan (Artificial Intelligence / AI) dan machine learning telah terbukti meningkatkan akurasi penilaian hasil panen serta mengurangi ketergantungan terhadap faktor manusia (Grabska et al., 2023). Ketidakefisienan metode manual juga berdampak pada rantai pasok: kesalahan klasifikasi dapat mencampur produk premium dan non-premium, menurunkan reputasi produsen, serta menimbulkan kerugian ekonomi. Oleh karena itu, dibutuhkan sistem otomatis yang adaptif terhadap variasi lingkungan dan varietas buah untuk mendukung praktik pertanian cerdas yang efisien dan berkelanjutan (Kavuncuoğlu et al., 2023).\n",
        "\n",
        "Proyek ini mengimplementasikan algoritma machine learning berbasis data numerik dari Apple Quality Dataset (Nelgiriyewithana, n.d.) untuk mengklasifikasikan mutu buah apel secara otomatis berdasarkan fitur fisik dan sensorik seperti Size, Weight, Sweetness, Crunchiness, Juiciness, Ripeness, dan Acidity. Tiga model supervised learning diterapkan — Logistic Regression, Random Forest, dan XGBoost — dengan evaluasi menggunakan pembagian data train–test (80:20) serta metrik accuracy, precision, recall, dan F1-score. Pendekatan ini didukung oleh berbagai studi yang menunjukkan efektivitas algoritma decision tree ensembles dalam memprediksi mutu buah secara non-destruktif (Grabska et al., 2023; Kavuncuoğlu et al., 2023).\n",
        "\n",
        "Melalui proyek ini, penilaian kualitas apel dapat dilakukan secara lebih cepat, akurat, dan konsisten. Selain itu, hasil penelitian ini diharapkan mendukung transformasi menuju data-driven smart agriculture yang objektif, efisien, dan berkelanjutan.\n",
        "\n",
        "---\n",
        "\n",
        "### Referensi\n",
        "\n",
        "Fadiji, T., Bokaba, T., Fawole, O. A., & Twinomurinzi, H. (2023). *Artificial intelligence in postharvest agriculture: Mapping a global research agenda*. Frontiers in Sustainable Food Systems, 7, 1226583. https://doi.org/10.3389/fsufs.2023.1226583  \n",
        "\n",
        "Grabska, J., Niewiadomska, A., & Wójcik, M. (2023). *Analyzing the quality parameters of apples by spectroscopy from Vis/NIR to NIR region: A comprehensive review*. Foods, 12(9), 1770. https://doi.org/10.3390/foods12091770  \n",
        "\n",
        "Kavuncuoğlu, E., Yetkin, M., Özdemir, E., & Ozturk, M. (2023). *Exploration of machine learning algorithms for pH and moisture prediction in apples using VIS-NIR imaging*. Applied Sciences, 13(16), 8391. https://doi.org/10.3390/app13168391  \n",
        "\n",
        "Nelgiriyewithana, W. (n.d.). *Apple Quality Dataset*. Kaggle. Retrieved October 19, 2025, from https://www.kaggle.com/datasets/nelgiriyewithana/apple-quality/data  \n"
      ],
      "metadata": {
        "id": "dzo3yY4-swU_"
      }
    },
    {
      "cell_type": "markdown",
      "source": [
        "##**B. Business Understanding**\n"
      ],
      "metadata": {
        "id": "wqf0_kUUtpI_"
      }
    },
    {
      "cell_type": "markdown",
      "source": [
        "### 1. Problem Statements  \n",
        "Berdasarkan latar belakang di atas, dapat dirumuskan beberapa permasalahan utama:\n",
        "- Bagaimana membangun model machine learning yang mampu **mengklasifikasikan kualitas apel (good/bad)** berdasarkan karakteristik hasil pengukuran sensor?  \n",
        "- Bagaimana memastikan model memiliki **akurasi yang cukup tinggi dan stabil** agar layak diterapkan pada proses industri?  \n"
      ],
      "metadata": {
        "id": "FFAkELBMDpDK"
      }
    },
    {
      "cell_type": "markdown",
      "source": [
        "### 2. Goals  \n",
        "Tujuan dari proyek ini adalah untuk:\n",
        "- Mengembangkan model machine learning yang dapat **memperkirakan kualitas apel secara otomatis** berdasarkan fitur numerik hasil sensor.  \n",
        "- **Membandingkan performa beberapa algoritma klasifikasi** untuk memperoleh model terbaik.  \n",
        "- Memberikan dasar bagi pengembangan sistem **sortasi buah otomatis berbasis kecerdasan buatan** di lingkungan industri pertanian.  \n"
      ],
      "metadata": {
        "id": "kK0-emg_DsaS"
      }
    },
    {
      "cell_type": "markdown",
      "source": [
        "### 3. Solution Statements\n",
        "- Dataset *Apple Quality* dari Kaggle digunakan untuk pelatihan dan pengujian dengan rasio *train–test* 80:20.  \n",
        "- Proyek ini menggunakan pendekatan *supervised learning* dengan tiga algoritma utama: **Logistic Regression**, **Random Forest**, dan **XGBoost**.  \n",
        "- Evaluasi dilakukan menggunakan metrik *accuracy*, *precision*, *recall*, dan *F1-score* untuk menentukan model terbaik yang efisien dan siap diterapkan pada sistem evaluasi mutu apel otomatis."
      ],
      "metadata": {
        "id": "UAaKFKC7AcQW"
      }
    },
    {
      "cell_type": "markdown",
      "source": [
        "## **C.import Library**"
      ],
      "metadata": {
        "id": "4bjQyF-ks8Xw"
      }
    },
    {
      "cell_type": "markdown",
      "source": [
        "Bagian ini memuat seluruh library yang digunakan dalam proses analisis dan pengembangan model klasifikasi kualitas apel.  \n",
        "Struktur impor disusun berdasarkan tahapan utama dalam pipeline *machine learning* agar kode lebih modular, efisien, dan mudah direproduksi."
      ],
      "metadata": {
        "id": "R3d_FJSoRlzc"
      }
    },
    {
      "cell_type": "code",
      "source": [
        "import kagglehub\n",
        "import os\n",
        "\n",
        "# Manipulasi dan analisis data\n",
        "import pandas as pd\n",
        "import numpy as np\n",
        "\n",
        "# Visualisasi\n",
        "import matplotlib.pyplot as plt\n",
        "import seaborn as sns\n",
        "\n",
        "# Preprocessing\n",
        "from sklearn.impute import SimpleImputer\n",
        "from sklearn.preprocessing import StandardScaler\n",
        "from sklearn.model_selection import train_test_split\n",
        "\n",
        "# Models\n",
        "from sklearn.linear_model import LogisticRegression\n",
        "from sklearn.ensemble import RandomForestClassifier\n",
        "import xgboost as xgb\n",
        "\n",
        "# Evaluasi\n",
        "from sklearn.metrics import accuracy_score, classification_report, confusion_matrix"
      ],
      "metadata": {
        "id": "0t0v8Ab9utSS"
      },
      "execution_count": 6,
      "outputs": []
    },
    {
      "cell_type": "markdown",
      "source": [
        "##**D. Data Understanding**\n",
        "\n",
        "Dataset yang digunakan dalam proyek ini berasal dari **Kaggle**, berjudul *Apple Quality Dataset* yang dibuat oleh **Nidula Elgiriyewithana**.  \n",
        "Sumber: [https://www.kaggle.com/datasets/nelgiriyewithana/apple-quality](https://www.kaggle.com/datasets/nelgiriyewithana/apple-quality)  \n",
        "\n",
        "Dataset ini berisi data kuantitatif mengenai karakteristik buah apel, dengan total **4.000 sampel** dan **9 fitur numerik dan kategorikal**.  \n",
        "Tujuannya adalah untuk memprediksi kualitas apel (*good* atau *bad*) berdasarkan atribut fisik dan rasa.\n",
        "\n",
        "---\n",
        "### Deskripsi Fitur\n",
        "\n",
        "| **Fitur** | **Deskripsi** |\n",
        "|:-----------|:--------------|\n",
        "| `A_id` | Identitas unik untuk setiap buah apel |\n",
        "| `Size` | Ukuran buah apel |\n",
        "| `Weight` | Berat buah apel |\n",
        "| `Sweetness` | Tingkat kemanisan buah |\n",
        "| `Crunchiness` | Tekstur yang menunjukkan tingkat kerenyahan buah |\n",
        "| `Juiciness` | Tingkat kadar air atau kejuicyaan buah |\n",
        "| `Ripeness` | Tahap atau tingkat kematangan buah |\n",
        "| `Acidity` | Tingkat keasaman buah |\n",
        "| `Quality` | Kualitas keseluruhan buah (baik atau buruk) |\n",
        "\n",
        "\n",
        "---\n",
        "\n",
        "###  Ringkasan Dataset\n",
        "\n",
        "- Jumlah data: **4.000 baris × 9 kolom**  \n",
        "- Distribusi target: **seimbang** antara *good* (50%) dan *bad* (50%)  \n",
        "- Missing values: **tidak ditemukan**  \n",
        "- Data telah melalui proses **normalisasi (scaled)** oleh penyedia dataset  \n",
        "\n"
      ],
      "metadata": {
        "id": "8lBd-04buMjg"
      }
    },
    {
      "cell_type": "markdown",
      "source": [
        "### 1. Mengunduh Dataset  \n",
        "- Dataset diunduh dari Kaggle menggunakan modul `kagglehub` untuk memperoleh data yang akan digunakan dalam proses analisis dan pemodelan.  \n",
        "- Setelah diunduh, dilakukan pengecekan lokasi dan isi folder guna memastikan file dataset tersedia dengan benar sebelum dimuat ke dalam pandas.\n"
      ],
      "metadata": {
        "id": "Sx-GRmm9xW5H"
      }
    },
    {
      "cell_type": "code",
      "source": [
        "# Download dataset\n",
        "path = kagglehub.dataset_download(\"nelgiriyewithana/apple-quality\")\n",
        "\n",
        "# Cek lokasi dan isi folder\n",
        "print(\"Path ke dataset:\", path)\n",
        "print(\"Isi folder:\", os.listdir(path))"
      ],
      "metadata": {
        "colab": {
          "base_uri": "https://localhost:8080/"
        },
        "id": "UVpEKl1ayRX_",
        "outputId": "a88da6b3-e10b-4832-ad1d-9cb99ad47640"
      },
      "execution_count": 7,
      "outputs": [
        {
          "output_type": "stream",
          "name": "stdout",
          "text": [
            "Using Colab cache for faster access to the 'apple-quality' dataset.\n",
            "Path ke dataset: /kaggle/input/apple-quality\n",
            "Isi folder: ['apple_quality.csv']\n"
          ]
        }
      ]
    },
    {
      "cell_type": "markdown",
      "source": [
        "### 2. Memuat Dataset ke dalam Pandas DataFrame  \n",
        "Setelah memastikan file tersedia, dataset dimuat ke dalam `pandas DataFrame` menggunakan fungsi `read_csv()`.  \n",
        "Langkah ini dilakukan agar data lebih mudah diolah dan dianalisis pada tahap selanjutnya.\n"
      ],
      "metadata": {
        "id": "kQxitNEf0RDL"
      }
    },
    {
      "cell_type": "code",
      "execution_count": 8,
      "metadata": {
        "id": "eaVxSXQOR_7P"
      },
      "outputs": [],
      "source": [
        "# Load CSV (ganti nama file sesuai hasil os.listdir, biasanya 'apple_quality.csv')\n",
        "df = pd.read_csv(os.path.join(path, \"apple_quality.csv\"))"
      ]
    },
    {
      "cell_type": "markdown",
      "source": [
        "### 3. Eksplorasi Awal Dataset  \n",
        "Tahap ini menampilkan beberapa informasi dasar mengenai dataset menggunakan fungsi `head()`, `info()`, dan `describe()`.  \n",
        "Langkah ini bertujuan untuk memahami struktur data, tipe setiap kolom, serta gambaran statistik awal sebelum dilakukan pembersihan dan pemrosesan lebih lanjut.\n"
      ],
      "metadata": {
        "id": "TNhKyUgP0vib"
      }
    },
    {
      "cell_type": "code",
      "source": [
        "df.head() # Menampilkan 5 data teratas"
      ],
      "metadata": {
        "colab": {
          "base_uri": "https://localhost:8080/",
          "height": 206
        },
        "id": "cjHcIQoJXhds",
        "outputId": "9e78b732-7212-445d-9e37-937b79282e67"
      },
      "execution_count": 9,
      "outputs": [
        {
          "output_type": "execute_result",
          "data": {
            "text/plain": [
              "   A_id      Size    Weight  Sweetness  Crunchiness  Juiciness  Ripeness  \\\n",
              "0   0.0 -3.970049 -2.512336   5.346330    -1.012009   1.844900  0.329840   \n",
              "1   1.0 -1.195217 -2.839257   3.664059     1.588232   0.853286  0.867530   \n",
              "2   2.0 -0.292024 -1.351282  -1.738429    -0.342616   2.838636 -0.038033   \n",
              "3   3.0 -0.657196 -2.271627   1.324874    -0.097875   3.637970 -3.413761   \n",
              "4   4.0  1.364217 -1.296612  -0.384658    -0.553006   3.030874 -1.303849   \n",
              "\n",
              "        Acidity Quality  \n",
              "0  -0.491590483    good  \n",
              "1  -0.722809367    good  \n",
              "2   2.621636473     bad  \n",
              "3   0.790723217    good  \n",
              "4   0.501984036    good  "
            ],
            "text/html": [
              "\n",
              "  <div id=\"df-6490802c-9b95-49ca-86fd-794901050497\" class=\"colab-df-container\">\n",
              "    <div>\n",
              "<style scoped>\n",
              "    .dataframe tbody tr th:only-of-type {\n",
              "        vertical-align: middle;\n",
              "    }\n",
              "\n",
              "    .dataframe tbody tr th {\n",
              "        vertical-align: top;\n",
              "    }\n",
              "\n",
              "    .dataframe thead th {\n",
              "        text-align: right;\n",
              "    }\n",
              "</style>\n",
              "<table border=\"1\" class=\"dataframe\">\n",
              "  <thead>\n",
              "    <tr style=\"text-align: right;\">\n",
              "      <th></th>\n",
              "      <th>A_id</th>\n",
              "      <th>Size</th>\n",
              "      <th>Weight</th>\n",
              "      <th>Sweetness</th>\n",
              "      <th>Crunchiness</th>\n",
              "      <th>Juiciness</th>\n",
              "      <th>Ripeness</th>\n",
              "      <th>Acidity</th>\n",
              "      <th>Quality</th>\n",
              "    </tr>\n",
              "  </thead>\n",
              "  <tbody>\n",
              "    <tr>\n",
              "      <th>0</th>\n",
              "      <td>0.0</td>\n",
              "      <td>-3.970049</td>\n",
              "      <td>-2.512336</td>\n",
              "      <td>5.346330</td>\n",
              "      <td>-1.012009</td>\n",
              "      <td>1.844900</td>\n",
              "      <td>0.329840</td>\n",
              "      <td>-0.491590483</td>\n",
              "      <td>good</td>\n",
              "    </tr>\n",
              "    <tr>\n",
              "      <th>1</th>\n",
              "      <td>1.0</td>\n",
              "      <td>-1.195217</td>\n",
              "      <td>-2.839257</td>\n",
              "      <td>3.664059</td>\n",
              "      <td>1.588232</td>\n",
              "      <td>0.853286</td>\n",
              "      <td>0.867530</td>\n",
              "      <td>-0.722809367</td>\n",
              "      <td>good</td>\n",
              "    </tr>\n",
              "    <tr>\n",
              "      <th>2</th>\n",
              "      <td>2.0</td>\n",
              "      <td>-0.292024</td>\n",
              "      <td>-1.351282</td>\n",
              "      <td>-1.738429</td>\n",
              "      <td>-0.342616</td>\n",
              "      <td>2.838636</td>\n",
              "      <td>-0.038033</td>\n",
              "      <td>2.621636473</td>\n",
              "      <td>bad</td>\n",
              "    </tr>\n",
              "    <tr>\n",
              "      <th>3</th>\n",
              "      <td>3.0</td>\n",
              "      <td>-0.657196</td>\n",
              "      <td>-2.271627</td>\n",
              "      <td>1.324874</td>\n",
              "      <td>-0.097875</td>\n",
              "      <td>3.637970</td>\n",
              "      <td>-3.413761</td>\n",
              "      <td>0.790723217</td>\n",
              "      <td>good</td>\n",
              "    </tr>\n",
              "    <tr>\n",
              "      <th>4</th>\n",
              "      <td>4.0</td>\n",
              "      <td>1.364217</td>\n",
              "      <td>-1.296612</td>\n",
              "      <td>-0.384658</td>\n",
              "      <td>-0.553006</td>\n",
              "      <td>3.030874</td>\n",
              "      <td>-1.303849</td>\n",
              "      <td>0.501984036</td>\n",
              "      <td>good</td>\n",
              "    </tr>\n",
              "  </tbody>\n",
              "</table>\n",
              "</div>\n",
              "    <div class=\"colab-df-buttons\">\n",
              "\n",
              "  <div class=\"colab-df-container\">\n",
              "    <button class=\"colab-df-convert\" onclick=\"convertToInteractive('df-6490802c-9b95-49ca-86fd-794901050497')\"\n",
              "            title=\"Convert this dataframe to an interactive table.\"\n",
              "            style=\"display:none;\">\n",
              "\n",
              "  <svg xmlns=\"http://www.w3.org/2000/svg\" height=\"24px\" viewBox=\"0 -960 960 960\">\n",
              "    <path d=\"M120-120v-720h720v720H120Zm60-500h600v-160H180v160Zm220 220h160v-160H400v160Zm0 220h160v-160H400v160ZM180-400h160v-160H180v160Zm440 0h160v-160H620v160ZM180-180h160v-160H180v160Zm440 0h160v-160H620v160Z\"/>\n",
              "  </svg>\n",
              "    </button>\n",
              "\n",
              "  <style>\n",
              "    .colab-df-container {\n",
              "      display:flex;\n",
              "      gap: 12px;\n",
              "    }\n",
              "\n",
              "    .colab-df-convert {\n",
              "      background-color: #E8F0FE;\n",
              "      border: none;\n",
              "      border-radius: 50%;\n",
              "      cursor: pointer;\n",
              "      display: none;\n",
              "      fill: #1967D2;\n",
              "      height: 32px;\n",
              "      padding: 0 0 0 0;\n",
              "      width: 32px;\n",
              "    }\n",
              "\n",
              "    .colab-df-convert:hover {\n",
              "      background-color: #E2EBFA;\n",
              "      box-shadow: 0px 1px 2px rgba(60, 64, 67, 0.3), 0px 1px 3px 1px rgba(60, 64, 67, 0.15);\n",
              "      fill: #174EA6;\n",
              "    }\n",
              "\n",
              "    .colab-df-buttons div {\n",
              "      margin-bottom: 4px;\n",
              "    }\n",
              "\n",
              "    [theme=dark] .colab-df-convert {\n",
              "      background-color: #3B4455;\n",
              "      fill: #D2E3FC;\n",
              "    }\n",
              "\n",
              "    [theme=dark] .colab-df-convert:hover {\n",
              "      background-color: #434B5C;\n",
              "      box-shadow: 0px 1px 3px 1px rgba(0, 0, 0, 0.15);\n",
              "      filter: drop-shadow(0px 1px 2px rgba(0, 0, 0, 0.3));\n",
              "      fill: #FFFFFF;\n",
              "    }\n",
              "  </style>\n",
              "\n",
              "    <script>\n",
              "      const buttonEl =\n",
              "        document.querySelector('#df-6490802c-9b95-49ca-86fd-794901050497 button.colab-df-convert');\n",
              "      buttonEl.style.display =\n",
              "        google.colab.kernel.accessAllowed ? 'block' : 'none';\n",
              "\n",
              "      async function convertToInteractive(key) {\n",
              "        const element = document.querySelector('#df-6490802c-9b95-49ca-86fd-794901050497');\n",
              "        const dataTable =\n",
              "          await google.colab.kernel.invokeFunction('convertToInteractive',\n",
              "                                                    [key], {});\n",
              "        if (!dataTable) return;\n",
              "\n",
              "        const docLinkHtml = 'Like what you see? Visit the ' +\n",
              "          '<a target=\"_blank\" href=https://colab.research.google.com/notebooks/data_table.ipynb>data table notebook</a>'\n",
              "          + ' to learn more about interactive tables.';\n",
              "        element.innerHTML = '';\n",
              "        dataTable['output_type'] = 'display_data';\n",
              "        await google.colab.output.renderOutput(dataTable, element);\n",
              "        const docLink = document.createElement('div');\n",
              "        docLink.innerHTML = docLinkHtml;\n",
              "        element.appendChild(docLink);\n",
              "      }\n",
              "    </script>\n",
              "  </div>\n",
              "\n",
              "\n",
              "    <div id=\"df-76e1ab41-7cb3-41ea-ac94-79b360a8d2c0\">\n",
              "      <button class=\"colab-df-quickchart\" onclick=\"quickchart('df-76e1ab41-7cb3-41ea-ac94-79b360a8d2c0')\"\n",
              "                title=\"Suggest charts\"\n",
              "                style=\"display:none;\">\n",
              "\n",
              "<svg xmlns=\"http://www.w3.org/2000/svg\" height=\"24px\"viewBox=\"0 0 24 24\"\n",
              "     width=\"24px\">\n",
              "    <g>\n",
              "        <path d=\"M19 3H5c-1.1 0-2 .9-2 2v14c0 1.1.9 2 2 2h14c1.1 0 2-.9 2-2V5c0-1.1-.9-2-2-2zM9 17H7v-7h2v7zm4 0h-2V7h2v10zm4 0h-2v-4h2v4z\"/>\n",
              "    </g>\n",
              "</svg>\n",
              "      </button>\n",
              "\n",
              "<style>\n",
              "  .colab-df-quickchart {\n",
              "      --bg-color: #E8F0FE;\n",
              "      --fill-color: #1967D2;\n",
              "      --hover-bg-color: #E2EBFA;\n",
              "      --hover-fill-color: #174EA6;\n",
              "      --disabled-fill-color: #AAA;\n",
              "      --disabled-bg-color: #DDD;\n",
              "  }\n",
              "\n",
              "  [theme=dark] .colab-df-quickchart {\n",
              "      --bg-color: #3B4455;\n",
              "      --fill-color: #D2E3FC;\n",
              "      --hover-bg-color: #434B5C;\n",
              "      --hover-fill-color: #FFFFFF;\n",
              "      --disabled-bg-color: #3B4455;\n",
              "      --disabled-fill-color: #666;\n",
              "  }\n",
              "\n",
              "  .colab-df-quickchart {\n",
              "    background-color: var(--bg-color);\n",
              "    border: none;\n",
              "    border-radius: 50%;\n",
              "    cursor: pointer;\n",
              "    display: none;\n",
              "    fill: var(--fill-color);\n",
              "    height: 32px;\n",
              "    padding: 0;\n",
              "    width: 32px;\n",
              "  }\n",
              "\n",
              "  .colab-df-quickchart:hover {\n",
              "    background-color: var(--hover-bg-color);\n",
              "    box-shadow: 0 1px 2px rgba(60, 64, 67, 0.3), 0 1px 3px 1px rgba(60, 64, 67, 0.15);\n",
              "    fill: var(--button-hover-fill-color);\n",
              "  }\n",
              "\n",
              "  .colab-df-quickchart-complete:disabled,\n",
              "  .colab-df-quickchart-complete:disabled:hover {\n",
              "    background-color: var(--disabled-bg-color);\n",
              "    fill: var(--disabled-fill-color);\n",
              "    box-shadow: none;\n",
              "  }\n",
              "\n",
              "  .colab-df-spinner {\n",
              "    border: 2px solid var(--fill-color);\n",
              "    border-color: transparent;\n",
              "    border-bottom-color: var(--fill-color);\n",
              "    animation:\n",
              "      spin 1s steps(1) infinite;\n",
              "  }\n",
              "\n",
              "  @keyframes spin {\n",
              "    0% {\n",
              "      border-color: transparent;\n",
              "      border-bottom-color: var(--fill-color);\n",
              "      border-left-color: var(--fill-color);\n",
              "    }\n",
              "    20% {\n",
              "      border-color: transparent;\n",
              "      border-left-color: var(--fill-color);\n",
              "      border-top-color: var(--fill-color);\n",
              "    }\n",
              "    30% {\n",
              "      border-color: transparent;\n",
              "      border-left-color: var(--fill-color);\n",
              "      border-top-color: var(--fill-color);\n",
              "      border-right-color: var(--fill-color);\n",
              "    }\n",
              "    40% {\n",
              "      border-color: transparent;\n",
              "      border-right-color: var(--fill-color);\n",
              "      border-top-color: var(--fill-color);\n",
              "    }\n",
              "    60% {\n",
              "      border-color: transparent;\n",
              "      border-right-color: var(--fill-color);\n",
              "    }\n",
              "    80% {\n",
              "      border-color: transparent;\n",
              "      border-right-color: var(--fill-color);\n",
              "      border-bottom-color: var(--fill-color);\n",
              "    }\n",
              "    90% {\n",
              "      border-color: transparent;\n",
              "      border-bottom-color: var(--fill-color);\n",
              "    }\n",
              "  }\n",
              "</style>\n",
              "\n",
              "      <script>\n",
              "        async function quickchart(key) {\n",
              "          const quickchartButtonEl =\n",
              "            document.querySelector('#' + key + ' button');\n",
              "          quickchartButtonEl.disabled = true;  // To prevent multiple clicks.\n",
              "          quickchartButtonEl.classList.add('colab-df-spinner');\n",
              "          try {\n",
              "            const charts = await google.colab.kernel.invokeFunction(\n",
              "                'suggestCharts', [key], {});\n",
              "          } catch (error) {\n",
              "            console.error('Error during call to suggestCharts:', error);\n",
              "          }\n",
              "          quickchartButtonEl.classList.remove('colab-df-spinner');\n",
              "          quickchartButtonEl.classList.add('colab-df-quickchart-complete');\n",
              "        }\n",
              "        (() => {\n",
              "          let quickchartButtonEl =\n",
              "            document.querySelector('#df-76e1ab41-7cb3-41ea-ac94-79b360a8d2c0 button');\n",
              "          quickchartButtonEl.style.display =\n",
              "            google.colab.kernel.accessAllowed ? 'block' : 'none';\n",
              "        })();\n",
              "      </script>\n",
              "    </div>\n",
              "\n",
              "    </div>\n",
              "  </div>\n"
            ],
            "application/vnd.google.colaboratory.intrinsic+json": {
              "type": "dataframe",
              "variable_name": "df",
              "summary": "{\n  \"name\": \"df\",\n  \"rows\": 4001,\n  \"fields\": [\n    {\n      \"column\": \"A_id\",\n      \"properties\": {\n        \"dtype\": \"number\",\n        \"std\": 1154.8448669265786,\n        \"min\": 0.0,\n        \"max\": 3999.0,\n        \"num_unique_values\": 4000,\n        \"samples\": [\n          555.0,\n          3491.0,\n          527.0\n        ],\n        \"semantic_type\": \"\",\n        \"description\": \"\"\n      }\n    },\n    {\n      \"column\": \"Size\",\n      \"properties\": {\n        \"dtype\": \"number\",\n        \"std\": 1.9280586888549773,\n        \"min\": -7.151703059,\n        \"max\": 6.406366899,\n        \"num_unique_values\": 4000,\n        \"samples\": [\n          3.099410637,\n          1.439787602,\n          1.20678634\n        ],\n        \"semantic_type\": \"\",\n        \"description\": \"\"\n      }\n    },\n    {\n      \"column\": \"Weight\",\n      \"properties\": {\n        \"dtype\": \"number\",\n        \"std\": 1.6025072141517562,\n        \"min\": -7.149847675,\n        \"max\": 5.79071359,\n        \"num_unique_values\": 4000,\n        \"samples\": [\n          -1.691560679,\n          -0.223976263,\n          -0.508979201\n        ],\n        \"semantic_type\": \"\",\n        \"description\": \"\"\n      }\n    },\n    {\n      \"column\": \"Sweetness\",\n      \"properties\": {\n        \"dtype\": \"number\",\n        \"std\": 1.9434406589204538,\n        \"min\": -6.894485494,\n        \"max\": 6.374915513,\n        \"num_unique_values\": 4000,\n        \"samples\": [\n          -3.679364,\n          -0.061448613,\n          1.736206944\n        ],\n        \"semantic_type\": \"\",\n        \"description\": \"\"\n      }\n    },\n    {\n      \"column\": \"Crunchiness\",\n      \"properties\": {\n        \"dtype\": \"number\",\n        \"std\": 1.4027572042119607,\n        \"min\": -6.055057805,\n        \"max\": 7.619851801,\n        \"num_unique_values\": 4000,\n        \"samples\": [\n          0.963605627,\n          1.412704629,\n          1.301010753\n        ],\n        \"semantic_type\": \"\",\n        \"description\": \"\"\n      }\n    },\n    {\n      \"column\": \"Juiciness\",\n      \"properties\": {\n        \"dtype\": \"number\",\n        \"std\": 1.9302856730942972,\n        \"min\": -5.961897048,\n        \"max\": 7.364402864,\n        \"num_unique_values\": 4000,\n        \"samples\": [\n          0.538102393,\n          0.885640988,\n          -0.556148589\n        ],\n        \"semantic_type\": \"\",\n        \"description\": \"\"\n      }\n    },\n    {\n      \"column\": \"Ripeness\",\n      \"properties\": {\n        \"dtype\": \"number\",\n        \"std\": 1.8744267757033413,\n        \"min\": -5.864598918,\n        \"max\": 7.237836684,\n        \"num_unique_values\": 4000,\n        \"samples\": [\n          1.660099378,\n          -2.191810607,\n          -1.332051678\n        ],\n        \"semantic_type\": \"\",\n        \"description\": \"\"\n      }\n    },\n    {\n      \"column\": \"Acidity\",\n      \"properties\": {\n        \"dtype\": \"string\",\n        \"num_unique_values\": 4001,\n        \"samples\": [\n          \"-0.544761148\",\n          \"0.766026809\",\n          \"1.009155619\"\n        ],\n        \"semantic_type\": \"\",\n        \"description\": \"\"\n      }\n    },\n    {\n      \"column\": \"Quality\",\n      \"properties\": {\n        \"dtype\": \"category\",\n        \"num_unique_values\": 2,\n        \"samples\": [\n          \"bad\",\n          \"good\"\n        ],\n        \"semantic_type\": \"\",\n        \"description\": \"\"\n      }\n    }\n  ]\n}"
            }
          },
          "metadata": {},
          "execution_count": 9
        }
      ]
    },
    {
      "cell_type": "code",
      "source": [
        "df.info() # Menampilkan informasi struktur dataset\n",
        "df.describe() # Menampilkan statistik deskriptif dataset"
      ],
      "metadata": {
        "colab": {
          "base_uri": "https://localhost:8080/",
          "height": 602
        },
        "id": "yp4yOLxXoSqX",
        "outputId": "34d18e0f-7581-4005-cd04-5c44ff357459"
      },
      "execution_count": 10,
      "outputs": [
        {
          "output_type": "stream",
          "name": "stdout",
          "text": [
            "<class 'pandas.core.frame.DataFrame'>\n",
            "RangeIndex: 4001 entries, 0 to 4000\n",
            "Data columns (total 9 columns):\n",
            " #   Column       Non-Null Count  Dtype  \n",
            "---  ------       --------------  -----  \n",
            " 0   A_id         4000 non-null   float64\n",
            " 1   Size         4000 non-null   float64\n",
            " 2   Weight       4000 non-null   float64\n",
            " 3   Sweetness    4000 non-null   float64\n",
            " 4   Crunchiness  4000 non-null   float64\n",
            " 5   Juiciness    4000 non-null   float64\n",
            " 6   Ripeness     4000 non-null   float64\n",
            " 7   Acidity      4001 non-null   object \n",
            " 8   Quality      4000 non-null   object \n",
            "dtypes: float64(7), object(2)\n",
            "memory usage: 281.4+ KB\n"
          ]
        },
        {
          "output_type": "execute_result",
          "data": {
            "text/plain": [
              "              A_id         Size       Weight    Sweetness  Crunchiness  \\\n",
              "count  4000.000000  4000.000000  4000.000000  4000.000000  4000.000000   \n",
              "mean   1999.500000    -0.503015    -0.989547    -0.470479     0.985478   \n",
              "std    1154.844867     1.928059     1.602507     1.943441     1.402757   \n",
              "min       0.000000    -7.151703    -7.149848    -6.894485    -6.055058   \n",
              "25%     999.750000    -1.816765    -2.011770    -1.738425     0.062764   \n",
              "50%    1999.500000    -0.513703    -0.984736    -0.504758     0.998249   \n",
              "75%    2999.250000     0.805526     0.030976     0.801922     1.894234   \n",
              "max    3999.000000     6.406367     5.790714     6.374916     7.619852   \n",
              "\n",
              "         Juiciness     Ripeness  \n",
              "count  4000.000000  4000.000000  \n",
              "mean      0.512118     0.498277  \n",
              "std       1.930286     1.874427  \n",
              "min      -5.961897    -5.864599  \n",
              "25%      -0.801286    -0.771677  \n",
              "50%       0.534219     0.503445  \n",
              "75%       1.835976     1.766212  \n",
              "max       7.364403     7.237837  "
            ],
            "text/html": [
              "\n",
              "  <div id=\"df-a27c1d15-59bc-4f50-9323-90e229bd4514\" class=\"colab-df-container\">\n",
              "    <div>\n",
              "<style scoped>\n",
              "    .dataframe tbody tr th:only-of-type {\n",
              "        vertical-align: middle;\n",
              "    }\n",
              "\n",
              "    .dataframe tbody tr th {\n",
              "        vertical-align: top;\n",
              "    }\n",
              "\n",
              "    .dataframe thead th {\n",
              "        text-align: right;\n",
              "    }\n",
              "</style>\n",
              "<table border=\"1\" class=\"dataframe\">\n",
              "  <thead>\n",
              "    <tr style=\"text-align: right;\">\n",
              "      <th></th>\n",
              "      <th>A_id</th>\n",
              "      <th>Size</th>\n",
              "      <th>Weight</th>\n",
              "      <th>Sweetness</th>\n",
              "      <th>Crunchiness</th>\n",
              "      <th>Juiciness</th>\n",
              "      <th>Ripeness</th>\n",
              "    </tr>\n",
              "  </thead>\n",
              "  <tbody>\n",
              "    <tr>\n",
              "      <th>count</th>\n",
              "      <td>4000.000000</td>\n",
              "      <td>4000.000000</td>\n",
              "      <td>4000.000000</td>\n",
              "      <td>4000.000000</td>\n",
              "      <td>4000.000000</td>\n",
              "      <td>4000.000000</td>\n",
              "      <td>4000.000000</td>\n",
              "    </tr>\n",
              "    <tr>\n",
              "      <th>mean</th>\n",
              "      <td>1999.500000</td>\n",
              "      <td>-0.503015</td>\n",
              "      <td>-0.989547</td>\n",
              "      <td>-0.470479</td>\n",
              "      <td>0.985478</td>\n",
              "      <td>0.512118</td>\n",
              "      <td>0.498277</td>\n",
              "    </tr>\n",
              "    <tr>\n",
              "      <th>std</th>\n",
              "      <td>1154.844867</td>\n",
              "      <td>1.928059</td>\n",
              "      <td>1.602507</td>\n",
              "      <td>1.943441</td>\n",
              "      <td>1.402757</td>\n",
              "      <td>1.930286</td>\n",
              "      <td>1.874427</td>\n",
              "    </tr>\n",
              "    <tr>\n",
              "      <th>min</th>\n",
              "      <td>0.000000</td>\n",
              "      <td>-7.151703</td>\n",
              "      <td>-7.149848</td>\n",
              "      <td>-6.894485</td>\n",
              "      <td>-6.055058</td>\n",
              "      <td>-5.961897</td>\n",
              "      <td>-5.864599</td>\n",
              "    </tr>\n",
              "    <tr>\n",
              "      <th>25%</th>\n",
              "      <td>999.750000</td>\n",
              "      <td>-1.816765</td>\n",
              "      <td>-2.011770</td>\n",
              "      <td>-1.738425</td>\n",
              "      <td>0.062764</td>\n",
              "      <td>-0.801286</td>\n",
              "      <td>-0.771677</td>\n",
              "    </tr>\n",
              "    <tr>\n",
              "      <th>50%</th>\n",
              "      <td>1999.500000</td>\n",
              "      <td>-0.513703</td>\n",
              "      <td>-0.984736</td>\n",
              "      <td>-0.504758</td>\n",
              "      <td>0.998249</td>\n",
              "      <td>0.534219</td>\n",
              "      <td>0.503445</td>\n",
              "    </tr>\n",
              "    <tr>\n",
              "      <th>75%</th>\n",
              "      <td>2999.250000</td>\n",
              "      <td>0.805526</td>\n",
              "      <td>0.030976</td>\n",
              "      <td>0.801922</td>\n",
              "      <td>1.894234</td>\n",
              "      <td>1.835976</td>\n",
              "      <td>1.766212</td>\n",
              "    </tr>\n",
              "    <tr>\n",
              "      <th>max</th>\n",
              "      <td>3999.000000</td>\n",
              "      <td>6.406367</td>\n",
              "      <td>5.790714</td>\n",
              "      <td>6.374916</td>\n",
              "      <td>7.619852</td>\n",
              "      <td>7.364403</td>\n",
              "      <td>7.237837</td>\n",
              "    </tr>\n",
              "  </tbody>\n",
              "</table>\n",
              "</div>\n",
              "    <div class=\"colab-df-buttons\">\n",
              "\n",
              "  <div class=\"colab-df-container\">\n",
              "    <button class=\"colab-df-convert\" onclick=\"convertToInteractive('df-a27c1d15-59bc-4f50-9323-90e229bd4514')\"\n",
              "            title=\"Convert this dataframe to an interactive table.\"\n",
              "            style=\"display:none;\">\n",
              "\n",
              "  <svg xmlns=\"http://www.w3.org/2000/svg\" height=\"24px\" viewBox=\"0 -960 960 960\">\n",
              "    <path d=\"M120-120v-720h720v720H120Zm60-500h600v-160H180v160Zm220 220h160v-160H400v160Zm0 220h160v-160H400v160ZM180-400h160v-160H180v160Zm440 0h160v-160H620v160ZM180-180h160v-160H180v160Zm440 0h160v-160H620v160Z\"/>\n",
              "  </svg>\n",
              "    </button>\n",
              "\n",
              "  <style>\n",
              "    .colab-df-container {\n",
              "      display:flex;\n",
              "      gap: 12px;\n",
              "    }\n",
              "\n",
              "    .colab-df-convert {\n",
              "      background-color: #E8F0FE;\n",
              "      border: none;\n",
              "      border-radius: 50%;\n",
              "      cursor: pointer;\n",
              "      display: none;\n",
              "      fill: #1967D2;\n",
              "      height: 32px;\n",
              "      padding: 0 0 0 0;\n",
              "      width: 32px;\n",
              "    }\n",
              "\n",
              "    .colab-df-convert:hover {\n",
              "      background-color: #E2EBFA;\n",
              "      box-shadow: 0px 1px 2px rgba(60, 64, 67, 0.3), 0px 1px 3px 1px rgba(60, 64, 67, 0.15);\n",
              "      fill: #174EA6;\n",
              "    }\n",
              "\n",
              "    .colab-df-buttons div {\n",
              "      margin-bottom: 4px;\n",
              "    }\n",
              "\n",
              "    [theme=dark] .colab-df-convert {\n",
              "      background-color: #3B4455;\n",
              "      fill: #D2E3FC;\n",
              "    }\n",
              "\n",
              "    [theme=dark] .colab-df-convert:hover {\n",
              "      background-color: #434B5C;\n",
              "      box-shadow: 0px 1px 3px 1px rgba(0, 0, 0, 0.15);\n",
              "      filter: drop-shadow(0px 1px 2px rgba(0, 0, 0, 0.3));\n",
              "      fill: #FFFFFF;\n",
              "    }\n",
              "  </style>\n",
              "\n",
              "    <script>\n",
              "      const buttonEl =\n",
              "        document.querySelector('#df-a27c1d15-59bc-4f50-9323-90e229bd4514 button.colab-df-convert');\n",
              "      buttonEl.style.display =\n",
              "        google.colab.kernel.accessAllowed ? 'block' : 'none';\n",
              "\n",
              "      async function convertToInteractive(key) {\n",
              "        const element = document.querySelector('#df-a27c1d15-59bc-4f50-9323-90e229bd4514');\n",
              "        const dataTable =\n",
              "          await google.colab.kernel.invokeFunction('convertToInteractive',\n",
              "                                                    [key], {});\n",
              "        if (!dataTable) return;\n",
              "\n",
              "        const docLinkHtml = 'Like what you see? Visit the ' +\n",
              "          '<a target=\"_blank\" href=https://colab.research.google.com/notebooks/data_table.ipynb>data table notebook</a>'\n",
              "          + ' to learn more about interactive tables.';\n",
              "        element.innerHTML = '';\n",
              "        dataTable['output_type'] = 'display_data';\n",
              "        await google.colab.output.renderOutput(dataTable, element);\n",
              "        const docLink = document.createElement('div');\n",
              "        docLink.innerHTML = docLinkHtml;\n",
              "        element.appendChild(docLink);\n",
              "      }\n",
              "    </script>\n",
              "  </div>\n",
              "\n",
              "\n",
              "    <div id=\"df-76c19bc7-6e5b-41b9-842c-39a0e3dab449\">\n",
              "      <button class=\"colab-df-quickchart\" onclick=\"quickchart('df-76c19bc7-6e5b-41b9-842c-39a0e3dab449')\"\n",
              "                title=\"Suggest charts\"\n",
              "                style=\"display:none;\">\n",
              "\n",
              "<svg xmlns=\"http://www.w3.org/2000/svg\" height=\"24px\"viewBox=\"0 0 24 24\"\n",
              "     width=\"24px\">\n",
              "    <g>\n",
              "        <path d=\"M19 3H5c-1.1 0-2 .9-2 2v14c0 1.1.9 2 2 2h14c1.1 0 2-.9 2-2V5c0-1.1-.9-2-2-2zM9 17H7v-7h2v7zm4 0h-2V7h2v10zm4 0h-2v-4h2v4z\"/>\n",
              "    </g>\n",
              "</svg>\n",
              "      </button>\n",
              "\n",
              "<style>\n",
              "  .colab-df-quickchart {\n",
              "      --bg-color: #E8F0FE;\n",
              "      --fill-color: #1967D2;\n",
              "      --hover-bg-color: #E2EBFA;\n",
              "      --hover-fill-color: #174EA6;\n",
              "      --disabled-fill-color: #AAA;\n",
              "      --disabled-bg-color: #DDD;\n",
              "  }\n",
              "\n",
              "  [theme=dark] .colab-df-quickchart {\n",
              "      --bg-color: #3B4455;\n",
              "      --fill-color: #D2E3FC;\n",
              "      --hover-bg-color: #434B5C;\n",
              "      --hover-fill-color: #FFFFFF;\n",
              "      --disabled-bg-color: #3B4455;\n",
              "      --disabled-fill-color: #666;\n",
              "  }\n",
              "\n",
              "  .colab-df-quickchart {\n",
              "    background-color: var(--bg-color);\n",
              "    border: none;\n",
              "    border-radius: 50%;\n",
              "    cursor: pointer;\n",
              "    display: none;\n",
              "    fill: var(--fill-color);\n",
              "    height: 32px;\n",
              "    padding: 0;\n",
              "    width: 32px;\n",
              "  }\n",
              "\n",
              "  .colab-df-quickchart:hover {\n",
              "    background-color: var(--hover-bg-color);\n",
              "    box-shadow: 0 1px 2px rgba(60, 64, 67, 0.3), 0 1px 3px 1px rgba(60, 64, 67, 0.15);\n",
              "    fill: var(--button-hover-fill-color);\n",
              "  }\n",
              "\n",
              "  .colab-df-quickchart-complete:disabled,\n",
              "  .colab-df-quickchart-complete:disabled:hover {\n",
              "    background-color: var(--disabled-bg-color);\n",
              "    fill: var(--disabled-fill-color);\n",
              "    box-shadow: none;\n",
              "  }\n",
              "\n",
              "  .colab-df-spinner {\n",
              "    border: 2px solid var(--fill-color);\n",
              "    border-color: transparent;\n",
              "    border-bottom-color: var(--fill-color);\n",
              "    animation:\n",
              "      spin 1s steps(1) infinite;\n",
              "  }\n",
              "\n",
              "  @keyframes spin {\n",
              "    0% {\n",
              "      border-color: transparent;\n",
              "      border-bottom-color: var(--fill-color);\n",
              "      border-left-color: var(--fill-color);\n",
              "    }\n",
              "    20% {\n",
              "      border-color: transparent;\n",
              "      border-left-color: var(--fill-color);\n",
              "      border-top-color: var(--fill-color);\n",
              "    }\n",
              "    30% {\n",
              "      border-color: transparent;\n",
              "      border-left-color: var(--fill-color);\n",
              "      border-top-color: var(--fill-color);\n",
              "      border-right-color: var(--fill-color);\n",
              "    }\n",
              "    40% {\n",
              "      border-color: transparent;\n",
              "      border-right-color: var(--fill-color);\n",
              "      border-top-color: var(--fill-color);\n",
              "    }\n",
              "    60% {\n",
              "      border-color: transparent;\n",
              "      border-right-color: var(--fill-color);\n",
              "    }\n",
              "    80% {\n",
              "      border-color: transparent;\n",
              "      border-right-color: var(--fill-color);\n",
              "      border-bottom-color: var(--fill-color);\n",
              "    }\n",
              "    90% {\n",
              "      border-color: transparent;\n",
              "      border-bottom-color: var(--fill-color);\n",
              "    }\n",
              "  }\n",
              "</style>\n",
              "\n",
              "      <script>\n",
              "        async function quickchart(key) {\n",
              "          const quickchartButtonEl =\n",
              "            document.querySelector('#' + key + ' button');\n",
              "          quickchartButtonEl.disabled = true;  // To prevent multiple clicks.\n",
              "          quickchartButtonEl.classList.add('colab-df-spinner');\n",
              "          try {\n",
              "            const charts = await google.colab.kernel.invokeFunction(\n",
              "                'suggestCharts', [key], {});\n",
              "          } catch (error) {\n",
              "            console.error('Error during call to suggestCharts:', error);\n",
              "          }\n",
              "          quickchartButtonEl.classList.remove('colab-df-spinner');\n",
              "          quickchartButtonEl.classList.add('colab-df-quickchart-complete');\n",
              "        }\n",
              "        (() => {\n",
              "          let quickchartButtonEl =\n",
              "            document.querySelector('#df-76c19bc7-6e5b-41b9-842c-39a0e3dab449 button');\n",
              "          quickchartButtonEl.style.display =\n",
              "            google.colab.kernel.accessAllowed ? 'block' : 'none';\n",
              "        })();\n",
              "      </script>\n",
              "    </div>\n",
              "\n",
              "    </div>\n",
              "  </div>\n"
            ],
            "application/vnd.google.colaboratory.intrinsic+json": {
              "type": "dataframe",
              "summary": "{\n  \"name\": \"df\",\n  \"rows\": 8,\n  \"fields\": [\n    {\n      \"column\": \"A_id\",\n      \"properties\": {\n        \"dtype\": \"number\",\n        \"std\": 1441.4004102794918,\n        \"min\": 0.0,\n        \"max\": 4000.0,\n        \"num_unique_values\": 7,\n        \"samples\": [\n          4000.0,\n          1999.5,\n          2999.25\n        ],\n        \"semantic_type\": \"\",\n        \"description\": \"\"\n      }\n    },\n    {\n      \"column\": \"Size\",\n      \"properties\": {\n        \"dtype\": \"number\",\n        \"std\": 1414.2613173169073,\n        \"min\": -7.151703059,\n        \"max\": 4000.0,\n        \"num_unique_values\": 8,\n        \"samples\": [\n          -0.50301462982675,\n          -0.5137025125000001,\n          4000.0\n        ],\n        \"semantic_type\": \"\",\n        \"description\": \"\"\n      }\n    },\n    {\n      \"column\": \"Weight\",\n      \"properties\": {\n        \"dtype\": \"number\",\n        \"std\": 1414.4056399099836,\n        \"min\": -7.149847675,\n        \"max\": 4000.0,\n        \"num_unique_values\": 8,\n        \"samples\": [\n          -0.9895465445945,\n          -0.9847364865,\n          4000.0\n        ],\n        \"semantic_type\": \"\",\n        \"description\": \"\"\n      }\n    },\n    {\n      \"column\": \"Sweetness\",\n      \"properties\": {\n        \"dtype\": \"number\",\n        \"std\": 1414.24305505838,\n        \"min\": -6.894485494,\n        \"max\": 4000.0,\n        \"num_unique_values\": 8,\n        \"samples\": [\n          -0.47047851978824995,\n          -0.5047584635,\n          4000.0\n        ],\n        \"semantic_type\": \"\",\n        \"description\": \"\"\n      }\n    },\n    {\n      \"column\": \"Crunchiness\",\n      \"properties\": {\n        \"dtype\": \"number\",\n        \"std\": 1413.8694630912496,\n        \"min\": -6.055057805,\n        \"max\": 4000.0,\n        \"num_unique_values\": 8,\n        \"samples\": [\n          0.9854779038585,\n          0.9982494390000001,\n          4000.0\n        ],\n        \"semantic_type\": \"\",\n        \"description\": \"\"\n      }\n    },\n    {\n      \"column\": \"Juiciness\",\n      \"properties\": {\n        \"dtype\": \"number\",\n        \"std\": 1413.9448657064763,\n        \"min\": -5.961897048,\n        \"max\": 4000.0,\n        \"num_unique_values\": 8,\n        \"samples\": [\n          0.5121179684932501,\n          0.5342186584999999,\n          4000.0\n        ],\n        \"semantic_type\": \"\",\n        \"description\": \"\"\n      }\n    },\n    {\n      \"column\": \"Ripeness\",\n      \"properties\": {\n        \"dtype\": \"number\",\n        \"std\": 1413.9532802549068,\n        \"min\": -5.864598918,\n        \"max\": 4000.0,\n        \"num_unique_values\": 8,\n        \"samples\": [\n          0.4982774280305,\n          0.5034447135,\n          4000.0\n        ],\n        \"semantic_type\": \"\",\n        \"description\": \"\"\n      }\n    }\n  ]\n}"
            }
          },
          "metadata": {},
          "execution_count": 10
        }
      ]
    },
    {
      "cell_type": "markdown",
      "source": [
        "### 4. Pemeriksaan Data Hilang dan Duplikat  \n",
        "\n",
        "Pengecekan dilakukan terhadap kemungkinan adanya nilai yang hilang (*missing values*) dan data ganda (*duplicates*) agar dataset yang digunakan bersih dan valid.\n"
      ],
      "metadata": {
        "id": "17F4AllV2mAg"
      }
    },
    {
      "cell_type": "code",
      "source": [
        "df.isnull().sum() # Memeriksa jumlah missing value pada setiap kolom dataset"
      ],
      "metadata": {
        "colab": {
          "base_uri": "https://localhost:8080/",
          "height": 366
        },
        "id": "Pd_QqBbSoQ2Y",
        "outputId": "b92ac3db-dd3c-472a-d6a7-764853e04af6"
      },
      "execution_count": 11,
      "outputs": [
        {
          "output_type": "execute_result",
          "data": {
            "text/plain": [
              "A_id           1\n",
              "Size           1\n",
              "Weight         1\n",
              "Sweetness      1\n",
              "Crunchiness    1\n",
              "Juiciness      1\n",
              "Ripeness       1\n",
              "Acidity        0\n",
              "Quality        1\n",
              "dtype: int64"
            ],
            "text/html": [
              "<div>\n",
              "<style scoped>\n",
              "    .dataframe tbody tr th:only-of-type {\n",
              "        vertical-align: middle;\n",
              "    }\n",
              "\n",
              "    .dataframe tbody tr th {\n",
              "        vertical-align: top;\n",
              "    }\n",
              "\n",
              "    .dataframe thead th {\n",
              "        text-align: right;\n",
              "    }\n",
              "</style>\n",
              "<table border=\"1\" class=\"dataframe\">\n",
              "  <thead>\n",
              "    <tr style=\"text-align: right;\">\n",
              "      <th></th>\n",
              "      <th>0</th>\n",
              "    </tr>\n",
              "  </thead>\n",
              "  <tbody>\n",
              "    <tr>\n",
              "      <th>A_id</th>\n",
              "      <td>1</td>\n",
              "    </tr>\n",
              "    <tr>\n",
              "      <th>Size</th>\n",
              "      <td>1</td>\n",
              "    </tr>\n",
              "    <tr>\n",
              "      <th>Weight</th>\n",
              "      <td>1</td>\n",
              "    </tr>\n",
              "    <tr>\n",
              "      <th>Sweetness</th>\n",
              "      <td>1</td>\n",
              "    </tr>\n",
              "    <tr>\n",
              "      <th>Crunchiness</th>\n",
              "      <td>1</td>\n",
              "    </tr>\n",
              "    <tr>\n",
              "      <th>Juiciness</th>\n",
              "      <td>1</td>\n",
              "    </tr>\n",
              "    <tr>\n",
              "      <th>Ripeness</th>\n",
              "      <td>1</td>\n",
              "    </tr>\n",
              "    <tr>\n",
              "      <th>Acidity</th>\n",
              "      <td>0</td>\n",
              "    </tr>\n",
              "    <tr>\n",
              "      <th>Quality</th>\n",
              "      <td>1</td>\n",
              "    </tr>\n",
              "  </tbody>\n",
              "</table>\n",
              "</div><br><label><b>dtype:</b> int64</label>"
            ]
          },
          "metadata": {},
          "execution_count": 11
        }
      ]
    },
    {
      "cell_type": "code",
      "source": [
        "df.duplicated().sum()# Memeriksa jumlah data duplikat dalam dataset"
      ],
      "metadata": {
        "colab": {
          "base_uri": "https://localhost:8080/"
        },
        "id": "guBsJIZgoUq-",
        "outputId": "6b305ba5-a4bb-4bd4-e5bc-6bdf37e61c8e"
      },
      "execution_count": 12,
      "outputs": [
        {
          "output_type": "execute_result",
          "data": {
            "text/plain": [
              "np.int64(0)"
            ]
          },
          "metadata": {},
          "execution_count": 12
        }
      ]
    },
    {
      "cell_type": "markdown",
      "source": [
        "### 5. Analisis Distribusi Label Target  \n",
        "Menampilkan proporsi kategori *good* dan *bad* pada kolom **Quality** untuk memastikan keseimbangan data.\n"
      ],
      "metadata": {
        "id": "JlJ2ZFV58RHq"
      }
    },
    {
      "cell_type": "code",
      "source": [
        "df['Quality'].value_counts().plot(kind='bar', color=['skyblue', 'salmon']) # Menampilkan distribusi kategori pada kolom target\n",
        "plt.title('Distribusi Label Target (Quality)')\n",
        "plt.xlabel('Kategori')\n",
        "plt.ylabel('Jumlah')\n",
        "plt.show()"
      ],
      "metadata": {
        "colab": {
          "base_uri": "https://localhost:8080/",
          "height": 492
        },
        "id": "WH71IBe6oYmX",
        "outputId": "04030f44-b232-4ee6-bcf6-b2dbbc662f93"
      },
      "execution_count": 13,
      "outputs": [
        {
          "output_type": "display_data",
          "data": {
            "text/plain": [
              "<Figure size 640x480 with 1 Axes>"
            ],
            "image/png": "[encoded data removed]"
          },
          "metadata": {}
        }
      ]
    },
    {
      "cell_type": "markdown",
      "source": [
        "### 6. Konversi Data dan Analisis Korelasi  \n",
        "- Beberapa kolom dikonversi menjadi format numerik agar dapat disertakan dalam analisis korelasi.  \n",
        "- Setelah itu, dilakukan visualisasi *heatmap* untuk melihat hubungan antarfitur dan tingkat korelasinya terhadap label **Quality**.\n"
      ],
      "metadata": {
        "id": "O80skouQ9pTI"
      }
    },
    {
      "cell_type": "code",
      "source": [
        "# Mengonversi kolom Quality menjadi format numerik (good → 1, bad → 0)\n",
        "df['Quality_num'] = df['Quality'].map({'good': 1, 'bad': 0})\n",
        "\n",
        "# Mengubah kolom Acidity menjadi tipe data numerik\n",
        "df['Acidity'] = pd.to_numeric(df['Acidity'], errors='coerce')\n",
        "\n",
        "# Memverifikasi hasil konversi data\n",
        "print(df['Quality'].unique())\n",
        "print(df['Quality_num'].value_counts())"
      ],
      "metadata": {
        "colab": {
          "base_uri": "https://localhost:8080/"
        },
        "id": "ZcjJlVZXh4jE",
        "outputId": "1693ed8b-5391-4ebb-ed35-38683db259ad"
      },
      "execution_count": 14,
      "outputs": [
        {
          "output_type": "stream",
          "name": "stdout",
          "text": [
            "['good' 'bad' nan]\n",
            "Quality_num\n",
            "1.0    2004\n",
            "0.0    1996\n",
            "Name: count, dtype: int64\n"
          ]
        }
      ]
    },
    {
      "cell_type": "code",
      "source": [
        "# Menghitung matriks korelasi antar fitur numerik\n",
        "corr = df.corr(numeric_only=True)\n",
        "\n",
        "# Menampilkan heatmap korelasi\n",
        "plt.figure(figsize=(10, 8))\n",
        "sns.heatmap(corr, annot=True, fmt=\".2f\", cmap=\"coolwarm\", center=0)\n",
        "plt.title(\"Heatmap Korelasi Fitur Apple Quality\")\n",
        "plt.show()"
      ],
      "metadata": {
        "colab": {
          "base_uri": "https://localhost:8080/",
          "height": 772
        },
        "id": "9pE1TaP8jB6c",
        "outputId": "53658077-98b0-43d3-ff13-380e68217b9c"
      },
      "execution_count": 15,
      "outputs": [
        {
          "output_type": "display_data",
          "data": {
            "text/plain": [
              "<Figure size 1000x800 with 2 Axes>"
            ],
            "image/png": "[encoded data removed]"
          },
          "metadata": {}
        }
      ]
    },
    {
      "cell_type": "markdown",
      "source": [
        "Berdasarkan hasil *heatmap* korelasi, fitur **Size (r = 0.24)**, **Sweetness (r = 0.25)**, dan **Juiciness (r = 0.26)** memiliki hubungan positif yang paling kuat terhadap kualitas apel, menunjukkan bahwa apel dengan ukuran lebih besar, rasa lebih manis, dan tingkat kejuicyaan tinggi cenderung diklasifikasikan sebagai *good quality*. Sebaliknya, **Ripeness (r = -0.26)** menunjukkan korelasi negatif, menandakan tingkat kematangan berlebih dapat menurunkan mutu buah. Fitur lain seperti **Weight**, **Crunchiness**, dan **Acidity** memiliki korelasi sangat rendah terhadap target, sehingga dianggap tidak berkontribusi signifikan terhadap model. Dengan demikian, fitur yang paling relevan untuk pemodelan selanjutnya adalah **Size**, **Sweetness**, **Juiciness**, dan **Ripeness**.\n"
      ],
      "metadata": {
        "id": "r9VmndV4jiEK"
      }
    },
    {
      "cell_type": "code",
      "source": [
        "df"
      ],
      "metadata": {
        "colab": {
          "base_uri": "https://localhost:8080/",
          "height": 424
        },
        "id": "xga_Y4RSsSwH",
        "outputId": "30f50150-cc7b-4ac2-c4de-855da765a0e9"
      },
      "execution_count": 16,
      "outputs": [
        {
          "output_type": "execute_result",
          "data": {
            "text/plain": [
              "        A_id      Size    Weight  Sweetness  Crunchiness  Juiciness  Ripeness  \\\n",
              "0        0.0 -3.970049 -2.512336   5.346330    -1.012009   1.844900  0.329840   \n",
              "1        1.0 -1.195217 -2.839257   3.664059     1.588232   0.853286  0.867530   \n",
              "2        2.0 -0.292024 -1.351282  -1.738429    -0.342616   2.838636 -0.038033   \n",
              "3        3.0 -0.657196 -2.271627   1.324874    -0.097875   3.637970 -3.413761   \n",
              "4        4.0  1.364217 -1.296612  -0.384658    -0.553006   3.030874 -1.303849   \n",
              "...      ...       ...       ...        ...          ...        ...       ...   \n",
              "3996  3996.0 -0.293118  1.949253  -0.204020    -0.640196   0.024523 -1.087900   \n",
              "3997  3997.0 -2.634515 -2.138247  -2.440461     0.657223   2.199709  4.763859   \n",
              "3998  3998.0 -4.008004 -1.779337   2.366397    -0.200329   2.161435  0.214488   \n",
              "3999  3999.0  0.278540 -1.715505   0.121217    -1.154075   1.266677 -0.776571   \n",
              "4000     NaN       NaN       NaN        NaN          NaN        NaN       NaN   \n",
              "\n",
              "       Acidity Quality  Quality_num  \n",
              "0    -0.491590    good          1.0  \n",
              "1    -0.722809    good          1.0  \n",
              "2     2.621636     bad          0.0  \n",
              "3     0.790723    good          1.0  \n",
              "4     0.501984    good          1.0  \n",
              "...        ...     ...          ...  \n",
              "3996  1.854235    good          1.0  \n",
              "3997 -1.334611     bad          0.0  \n",
              "3998 -2.229720    good          1.0  \n",
              "3999  1.599796    good          1.0  \n",
              "4000       NaN     NaN          NaN  \n",
              "\n",
              "[4001 rows x 10 columns]"
            ],
            "text/html": [
              "\n",
              "  <div id=\"df-2342a546-d640-46ca-ad3f-d790241fc8ee\" class=\"colab-df-container\">\n",
              "    <div>\n",
              "<style scoped>\n",
              "    .dataframe tbody tr th:only-of-type {\n",
              "        vertical-align: middle;\n",
              "    }\n",
              "\n",
              "    .dataframe tbody tr th {\n",
              "        vertical-align: top;\n",
              "    }\n",
              "\n",
              "    .dataframe thead th {\n",
              "        text-align: right;\n",
              "    }\n",
              "</style>\n",
              "<table border=\"1\" class=\"dataframe\">\n",
              "  <thead>\n",
              "    <tr style=\"text-align: right;\">\n",
              "      <th></th>\n",
              "      <th>A_id</th>\n",
              "      <th>Size</th>\n",
              "      <th>Weight</th>\n",
              "      <th>Sweetness</th>\n",
              "      <th>Crunchiness</th>\n",
              "      <th>Juiciness</th>\n",
              "      <th>Ripeness</th>\n",
              "      <th>Acidity</th>\n",
              "      <th>Quality</th>\n",
              "      <th>Quality_num</th>\n",
              "    </tr>\n",
              "  </thead>\n",
              "  <tbody>\n",
              "    <tr>\n",
              "      <th>0</th>\n",
              "      <td>0.0</td>\n",
              "      <td>-3.970049</td>\n",
              "      <td>-2.512336</td>\n",
              "      <td>5.346330</td>\n",
              "      <td>-1.012009</td>\n",
              "      <td>1.844900</td>\n",
              "      <td>0.329840</td>\n",
              "      <td>-0.491590</td>\n",
              "      <td>good</td>\n",
              "      <td>1.0</td>\n",
              "    </tr>\n",
              "    <tr>\n",
              "      <th>1</th>\n",
              "      <td>1.0</td>\n",
              "      <td>-1.195217</td>\n",
              "      <td>-2.839257</td>\n",
              "      <td>3.664059</td>\n",
              "      <td>1.588232</td>\n",
              "      <td>0.853286</td>\n",
              "      <td>0.867530</td>\n",
              "      <td>-0.722809</td>\n",
              "      <td>good</td>\n",
              "      <td>1.0</td>\n",
              "    </tr>\n",
              "    <tr>\n",
              "      <th>2</th>\n",
              "      <td>2.0</td>\n",
              "      <td>-0.292024</td>\n",
              "      <td>-1.351282</td>\n",
              "      <td>-1.738429</td>\n",
              "      <td>-0.342616</td>\n",
              "      <td>2.838636</td>\n",
              "      <td>-0.038033</td>\n",
              "      <td>2.621636</td>\n",
              "      <td>bad</td>\n",
              "      <td>0.0</td>\n",
              "    </tr>\n",
              "    <tr>\n",
              "      <th>3</th>\n",
              "      <td>3.0</td>\n",
              "      <td>-0.657196</td>\n",
              "      <td>-2.271627</td>\n",
              "      <td>1.324874</td>\n",
              "      <td>-0.097875</td>\n",
              "      <td>3.637970</td>\n",
              "      <td>-3.413761</td>\n",
              "      <td>0.790723</td>\n",
              "      <td>good</td>\n",
              "      <td>1.0</td>\n",
              "    </tr>\n",
              "    <tr>\n",
              "      <th>4</th>\n",
              "      <td>4.0</td>\n",
              "      <td>1.364217</td>\n",
              "      <td>-1.296612</td>\n",
              "      <td>-0.384658</td>\n",
              "      <td>-0.553006</td>\n",
              "      <td>3.030874</td>\n",
              "      <td>-1.303849</td>\n",
              "      <td>0.501984</td>\n",
              "      <td>good</td>\n",
              "      <td>1.0</td>\n",
              "    </tr>\n",
              "    <tr>\n",
              "      <th>...</th>\n",
              "      <td>...</td>\n",
              "      <td>...</td>\n",
              "      <td>...</td>\n",
              "      <td>...</td>\n",
              "      <td>...</td>\n",
              "      <td>...</td>\n",
              "      <td>...</td>\n",
              "      <td>...</td>\n",
              "      <td>...</td>\n",
              "      <td>...</td>\n",
              "    </tr>\n",
              "    <tr>\n",
              "      <th>3996</th>\n",
              "      <td>3996.0</td>\n",
              "      <td>-0.293118</td>\n",
              "      <td>1.949253</td>\n",
              "      <td>-0.204020</td>\n",
              "      <td>-0.640196</td>\n",
              "      <td>0.024523</td>\n",
              "      <td>-1.087900</td>\n",
              "      <td>1.854235</td>\n",
              "      <td>good</td>\n",
              "      <td>1.0</td>\n",
              "    </tr>\n",
              "    <tr>\n",
              "      <th>3997</th>\n",
              "      <td>3997.0</td>\n",
              "      <td>-2.634515</td>\n",
              "      <td>-2.138247</td>\n",
              "      <td>-2.440461</td>\n",
              "      <td>0.657223</td>\n",
              "      <td>2.199709</td>\n",
              "      <td>4.763859</td>\n",
              "      <td>-1.334611</td>\n",
              "      <td>bad</td>\n",
              "      <td>0.0</td>\n",
              "    </tr>\n",
              "    <tr>\n",
              "      <th>3998</th>\n",
              "      <td>3998.0</td>\n",
              "      <td>-4.008004</td>\n",
              "      <td>-1.779337</td>\n",
              "      <td>2.366397</td>\n",
              "      <td>-0.200329</td>\n",
              "      <td>2.161435</td>\n",
              "      <td>0.214488</td>\n",
              "      <td>-2.229720</td>\n",
              "      <td>good</td>\n",
              "      <td>1.0</td>\n",
              "    </tr>\n",
              "    <tr>\n",
              "      <th>3999</th>\n",
              "      <td>3999.0</td>\n",
              "      <td>0.278540</td>\n",
              "      <td>-1.715505</td>\n",
              "      <td>0.121217</td>\n",
              "      <td>-1.154075</td>\n",
              "      <td>1.266677</td>\n",
              "      <td>-0.776571</td>\n",
              "      <td>1.599796</td>\n",
              "      <td>good</td>\n",
              "      <td>1.0</td>\n",
              "    </tr>\n",
              "    <tr>\n",
              "      <th>4000</th>\n",
              "      <td>NaN</td>\n",
              "      <td>NaN</td>\n",
              "      <td>NaN</td>\n",
              "      <td>NaN</td>\n",
              "      <td>NaN</td>\n",
              "      <td>NaN</td>\n",
              "      <td>NaN</td>\n",
              "      <td>NaN</td>\n",
              "      <td>NaN</td>\n",
              "      <td>NaN</td>\n",
              "    </tr>\n",
              "  </tbody>\n",
              "</table>\n",
              "<p>4001 rows × 10 columns</p>\n",
              "</div>\n",
              "    <div class=\"colab-df-buttons\">\n",
              "\n",
              "  <div class=\"colab-df-container\">\n",
              "    <button class=\"colab-df-convert\" onclick=\"convertToInteractive('df-2342a546-d640-46ca-ad3f-d790241fc8ee')\"\n",
              "            title=\"Convert this dataframe to an interactive table.\"\n",
              "            style=\"display:none;\">\n",
              "\n",
              "  <svg xmlns=\"http://www.w3.org/2000/svg\" height=\"24px\" viewBox=\"0 -960 960 960\">\n",
              "    <path d=\"M120-120v-720h720v720H120Zm60-500h600v-160H180v160Zm220 220h160v-160H400v160Zm0 220h160v-160H400v160ZM180-400h160v-160H180v160Zm440 0h160v-160H620v160ZM180-180h160v-160H180v160Zm440 0h160v-160H620v160Z\"/>\n",
              "  </svg>\n",
              "    </button>\n",
              "\n",
              "  <style>\n",
              "    .colab-df-container {\n",
              "      display:flex;\n",
              "      gap: 12px;\n",
              "    }\n",
              "\n",
              "    .colab-df-convert {\n",
              "      background-color: #E8F0FE;\n",
              "      border: none;\n",
              "      border-radius: 50%;\n",
              "      cursor: pointer;\n",
              "      display: none;\n",
              "      fill: #1967D2;\n",
              "      height: 32px;\n",
              "      padding: 0 0 0 0;\n",
              "      width: 32px;\n",
              "    }\n",
              "\n",
              "    .colab-df-convert:hover {\n",
              "      background-color: #E2EBFA;\n",
              "      box-shadow: 0px 1px 2px rgba(60, 64, 67, 0.3), 0px 1px 3px 1px rgba(60, 64, 67, 0.15);\n",
              "      fill: #174EA6;\n",
              "    }\n",
              "\n",
              "    .colab-df-buttons div {\n",
              "      margin-bottom: 4px;\n",
              "    }\n",
              "\n",
              "    [theme=dark] .colab-df-convert {\n",
              "      background-color: #3B4455;\n",
              "      fill: #D2E3FC;\n",
              "    }\n",
              "\n",
              "    [theme=dark] .colab-df-convert:hover {\n",
              "      background-color: #434B5C;\n",
              "      box-shadow: 0px 1px 3px 1px rgba(0, 0, 0, 0.15);\n",
              "      filter: drop-shadow(0px 1px 2px rgba(0, 0, 0, 0.3));\n",
              "      fill: #FFFFFF;\n",
              "    }\n",
              "  </style>\n",
              "\n",
              "    <script>\n",
              "      const buttonEl =\n",
              "        document.querySelector('#df-2342a546-d640-46ca-ad3f-d790241fc8ee button.colab-df-convert');\n",
              "      buttonEl.style.display =\n",
              "        google.colab.kernel.accessAllowed ? 'block' : 'none';\n",
              "\n",
              "      async function convertToInteractive(key) {\n",
              "        const element = document.querySelector('#df-2342a546-d640-46ca-ad3f-d790241fc8ee');\n",
              "        const dataTable =\n",
              "          await google.colab.kernel.invokeFunction('convertToInteractive',\n",
              "                                                    [key], {});\n",
              "        if (!dataTable) return;\n",
              "\n",
              "        const docLinkHtml = 'Like what you see? Visit the ' +\n",
              "          '<a target=\"_blank\" href=https://colab.research.google.com/notebooks/data_table.ipynb>data table notebook</a>'\n",
              "          + ' to learn more about interactive tables.';\n",
              "        element.innerHTML = '';\n",
              "        dataTable['output_type'] = 'display_data';\n",
              "        await google.colab.output.renderOutput(dataTable, element);\n",
              "        const docLink = document.createElement('div');\n",
              "        docLink.innerHTML = docLinkHtml;\n",
              "        element.appendChild(docLink);\n",
              "      }\n",
              "    </script>\n",
              "  </div>\n",
              "\n",
              "\n",
              "    <div id=\"df-b9301144-2fc4-4e14-ae06-c02f263de539\">\n",
              "      <button class=\"colab-df-quickchart\" onclick=\"quickchart('df-b9301144-2fc4-4e14-ae06-c02f263de539')\"\n",
              "                title=\"Suggest charts\"\n",
              "                style=\"display:none;\">\n",
              "\n",
              "<svg xmlns=\"http://www.w3.org/2000/svg\" height=\"24px\"viewBox=\"0 0 24 24\"\n",
              "     width=\"24px\">\n",
              "    <g>\n",
              "        <path d=\"M19 3H5c-1.1 0-2 .9-2 2v14c0 1.1.9 2 2 2h14c1.1 0 2-.9 2-2V5c0-1.1-.9-2-2-2zM9 17H7v-7h2v7zm4 0h-2V7h2v10zm4 0h-2v-4h2v4z\"/>\n",
              "    </g>\n",
              "</svg>\n",
              "      </button>\n",
              "\n",
              "<style>\n",
              "  .colab-df-quickchart {\n",
              "      --bg-color: #E8F0FE;\n",
              "      --fill-color: #1967D2;\n",
              "      --hover-bg-color: #E2EBFA;\n",
              "      --hover-fill-color: #174EA6;\n",
              "      --disabled-fill-color: #AAA;\n",
              "      --disabled-bg-color: #DDD;\n",
              "  }\n",
              "\n",
              "  [theme=dark] .colab-df-quickchart {\n",
              "      --bg-color: #3B4455;\n",
              "      --fill-color: #D2E3FC;\n",
              "      --hover-bg-color: #434B5C;\n",
              "      --hover-fill-color: #FFFFFF;\n",
              "      --disabled-bg-color: #3B4455;\n",
              "      --disabled-fill-color: #666;\n",
              "  }\n",
              "\n",
              "  .colab-df-quickchart {\n",
              "    background-color: var(--bg-color);\n",
              "    border: none;\n",
              "    border-radius: 50%;\n",
              "    cursor: pointer;\n",
              "    display: none;\n",
              "    fill: var(--fill-color);\n",
              "    height: 32px;\n",
              "    padding: 0;\n",
              "    width: 32px;\n",
              "  }\n",
              "\n",
              "  .colab-df-quickchart:hover {\n",
              "    background-color: var(--hover-bg-color);\n",
              "    box-shadow: 0 1px 2px rgba(60, 64, 67, 0.3), 0 1px 3px 1px rgba(60, 64, 67, 0.15);\n",
              "    fill: var(--button-hover-fill-color);\n",
              "  }\n",
              "\n",
              "  .colab-df-quickchart-complete:disabled,\n",
              "  .colab-df-quickchart-complete:disabled:hover {\n",
              "    background-color: var(--disabled-bg-color);\n",
              "    fill: var(--disabled-fill-color);\n",
              "    box-shadow: none;\n",
              "  }\n",
              "\n",
              "  .colab-df-spinner {\n",
              "    border: 2px solid var(--fill-color);\n",
              "    border-color: transparent;\n",
              "    border-bottom-color: var(--fill-color);\n",
              "    animation:\n",
              "      spin 1s steps(1) infinite;\n",
              "  }\n",
              "\n",
              "  @keyframes spin {\n",
              "    0% {\n",
              "      border-color: transparent;\n",
              "      border-bottom-color: var(--fill-color);\n",
              "      border-left-color: var(--fill-color);\n",
              "    }\n",
              "    20% {\n",
              "      border-color: transparent;\n",
              "      border-left-color: var(--fill-color);\n",
              "      border-top-color: var(--fill-color);\n",
              "    }\n",
              "    30% {\n",
              "      border-color: transparent;\n",
              "      border-left-color: var(--fill-color);\n",
              "      border-top-color: var(--fill-color);\n",
              "      border-right-color: var(--fill-color);\n",
              "    }\n",
              "    40% {\n",
              "      border-color: transparent;\n",
              "      border-right-color: var(--fill-color);\n",
              "      border-top-color: var(--fill-color);\n",
              "    }\n",
              "    60% {\n",
              "      border-color: transparent;\n",
              "      border-right-color: var(--fill-color);\n",
              "    }\n",
              "    80% {\n",
              "      border-color: transparent;\n",
              "      border-right-color: var(--fill-color);\n",
              "      border-bottom-color: var(--fill-color);\n",
              "    }\n",
              "    90% {\n",
              "      border-color: transparent;\n",
              "      border-bottom-color: var(--fill-color);\n",
              "    }\n",
              "  }\n",
              "</style>\n",
              "\n",
              "      <script>\n",
              "        async function quickchart(key) {\n",
              "          const quickchartButtonEl =\n",
              "            document.querySelector('#' + key + ' button');\n",
              "          quickchartButtonEl.disabled = true;  // To prevent multiple clicks.\n",
              "          quickchartButtonEl.classList.add('colab-df-spinner');\n",
              "          try {\n",
              "            const charts = await google.colab.kernel.invokeFunction(\n",
              "                'suggestCharts', [key], {});\n",
              "          } catch (error) {\n",
              "            console.error('Error during call to suggestCharts:', error);\n",
              "          }\n",
              "          quickchartButtonEl.classList.remove('colab-df-spinner');\n",
              "          quickchartButtonEl.classList.add('colab-df-quickchart-complete');\n",
              "        }\n",
              "        (() => {\n",
              "          let quickchartButtonEl =\n",
              "            document.querySelector('#df-b9301144-2fc4-4e14-ae06-c02f263de539 button');\n",
              "          quickchartButtonEl.style.display =\n",
              "            google.colab.kernel.accessAllowed ? 'block' : 'none';\n",
              "        })();\n",
              "      </script>\n",
              "    </div>\n",
              "\n",
              "  <div id=\"id_fd3271e3-7431-42c5-85ec-4c35d36e79f3\">\n",
              "    <style>\n",
              "      .colab-df-generate {\n",
              "        background-color: #E8F0FE;\n",
              "        border: none;\n",
              "        border-radius: 50%;\n",
              "        cursor: pointer;\n",
              "        display: none;\n",
              "        fill: #1967D2;\n",
              "        height: 32px;\n",
              "        padding: 0 0 0 0;\n",
              "        width: 32px;\n",
              "      }\n",
              "\n",
              "      .colab-df-generate:hover {\n",
              "        background-color: #E2EBFA;\n",
              "        box-shadow: 0px 1px 2px rgba(60, 64, 67, 0.3), 0px 1px 3px 1px rgba(60, 64, 67, 0.15);\n",
              "        fill: #174EA6;\n",
              "      }\n",
              "\n",
              "      [theme=dark] .colab-df-generate {\n",
              "        background-color: #3B4455;\n",
              "        fill: #D2E3FC;\n",
              "      }\n",
              "\n",
              "      [theme=dark] .colab-df-generate:hover {\n",
              "        background-color: #434B5C;\n",
              "        box-shadow: 0px 1px 3px 1px rgba(0, 0, 0, 0.15);\n",
              "        filter: drop-shadow(0px 1px 2px rgba(0, 0, 0, 0.3));\n",
              "        fill: #FFFFFF;\n",
              "      }\n",
              "    </style>\n",
              "    <button class=\"colab-df-generate\" onclick=\"generateWithVariable('df')\"\n",
              "            title=\"Generate code using this dataframe.\"\n",
              "            style=\"display:none;\">\n",
              "\n",
              "  <svg xmlns=\"http://www.w3.org/2000/svg\" height=\"24px\"viewBox=\"0 0 24 24\"\n",
              "       width=\"24px\">\n",
              "    <path d=\"M7,19H8.4L18.45,9,17,7.55,7,17.6ZM5,21V16.75L18.45,3.32a2,2,0,0,1,2.83,0l1.4,1.43a1.91,1.91,0,0,1,.58,1.4,1.91,1.91,0,0,1-.58,1.4L9.25,21ZM18.45,9,17,7.55Zm-12,3A5.31,5.31,0,0,0,4.9,8.1,5.31,5.31,0,0,0,1,6.5,5.31,5.31,0,0,0,4.9,4.9,5.31,5.31,0,0,0,6.5,1,5.31,5.31,0,0,0,8.1,4.9,5.31,5.31,0,0,0,12,6.5,5.46,5.46,0,0,0,6.5,12Z\"/>\n",
              "  </svg>\n",
              "    </button>\n",
              "    <script>\n",
              "      (() => {\n",
              "      const buttonEl =\n",
              "        document.querySelector('#id_fd3271e3-7431-42c5-85ec-4c35d36e79f3 button.colab-df-generate');\n",
              "      buttonEl.style.display =\n",
              "        google.colab.kernel.accessAllowed ? 'block' : 'none';\n",
              "\n",
              "      buttonEl.onclick = () => {\n",
              "        google.colab.notebook.generateWithVariable('df');\n",
              "      }\n",
              "      })();\n",
              "    </script>\n",
              "  </div>\n",
              "\n",
              "    </div>\n",
              "  </div>\n"
            ],
            "application/vnd.google.colaboratory.intrinsic+json": {
              "type": "dataframe",
              "variable_name": "df",
              "summary": "{\n  \"name\": \"df\",\n  \"rows\": 4001,\n  \"fields\": [\n    {\n      \"column\": \"A_id\",\n      \"properties\": {\n        \"dtype\": \"number\",\n        \"std\": 1154.8448669265786,\n        \"min\": 0.0,\n        \"max\": 3999.0,\n        \"num_unique_values\": 4000,\n        \"samples\": [\n          555.0,\n          3491.0,\n          527.0\n        ],\n        \"semantic_type\": \"\",\n        \"description\": \"\"\n      }\n    },\n    {\n      \"column\": \"Size\",\n      \"properties\": {\n        \"dtype\": \"number\",\n        \"std\": 1.9280586888549773,\n        \"min\": -7.151703059,\n        \"max\": 6.406366899,\n        \"num_unique_values\": 4000,\n        \"samples\": [\n          3.099410637,\n          1.439787602,\n          1.20678634\n        ],\n        \"semantic_type\": \"\",\n        \"description\": \"\"\n      }\n    },\n    {\n      \"column\": \"Weight\",\n      \"properties\": {\n        \"dtype\": \"number\",\n        \"std\": 1.6025072141517562,\n        \"min\": -7.149847675,\n        \"max\": 5.79071359,\n        \"num_unique_values\": 4000,\n        \"samples\": [\n          -1.691560679,\n          -0.223976263,\n          -0.508979201\n        ],\n        \"semantic_type\": \"\",\n        \"description\": \"\"\n      }\n    },\n    {\n      \"column\": \"Sweetness\",\n      \"properties\": {\n        \"dtype\": \"number\",\n        \"std\": 1.9434406589204538,\n        \"min\": -6.894485494,\n        \"max\": 6.374915513,\n        \"num_unique_values\": 4000,\n        \"samples\": [\n          -3.679364,\n          -0.061448613,\n          1.736206944\n        ],\n        \"semantic_type\": \"\",\n        \"description\": \"\"\n      }\n    },\n    {\n      \"column\": \"Crunchiness\",\n      \"properties\": {\n        \"dtype\": \"number\",\n        \"std\": 1.4027572042119607,\n        \"min\": -6.055057805,\n        \"max\": 7.619851801,\n        \"num_unique_values\": 4000,\n        \"samples\": [\n          0.963605627,\n          1.412704629,\n          1.301010753\n        ],\n        \"semantic_type\": \"\",\n        \"description\": \"\"\n      }\n    },\n    {\n      \"column\": \"Juiciness\",\n      \"properties\": {\n        \"dtype\": \"number\",\n        \"std\": 1.9302856730942972,\n        \"min\": -5.961897048,\n        \"max\": 7.364402864,\n        \"num_unique_values\": 4000,\n        \"samples\": [\n          0.538102393,\n          0.885640988,\n          -0.556148589\n        ],\n        \"semantic_type\": \"\",\n        \"description\": \"\"\n      }\n    },\n    {\n      \"column\": \"Ripeness\",\n      \"properties\": {\n        \"dtype\": \"number\",\n        \"std\": 1.8744267757033413,\n        \"min\": -5.864598918,\n        \"max\": 7.237836684,\n        \"num_unique_values\": 4000,\n        \"samples\": [\n          1.660099378,\n          -2.191810607,\n          -1.332051678\n        ],\n        \"semantic_type\": \"\",\n        \"description\": \"\"\n      }\n    },\n    {\n      \"column\": \"Acidity\",\n      \"properties\": {\n        \"dtype\": \"number\",\n        \"std\": 2.110269636420917,\n        \"min\": -7.010538475,\n        \"max\": 7.404736238,\n        \"num_unique_values\": 4000,\n        \"samples\": [\n          -0.544761148,\n          1.952776768,\n          1.009155619\n        ],\n        \"semantic_type\": \"\",\n        \"description\": \"\"\n      }\n    },\n    {\n      \"column\": \"Quality\",\n      \"properties\": {\n        \"dtype\": \"category\",\n        \"num_unique_values\": 2,\n        \"samples\": [\n          \"bad\",\n          \"good\"\n        ],\n        \"semantic_type\": \"\",\n        \"description\": \"\"\n      }\n    },\n    {\n      \"column\": \"Quality_num\",\n      \"properties\": {\n        \"dtype\": \"number\",\n        \"std\": 0.5000615115951665,\n        \"min\": 0.0,\n        \"max\": 1.0,\n        \"num_unique_values\": 2,\n        \"samples\": [\n          0.0,\n          1.0\n        ],\n        \"semantic_type\": \"\",\n        \"description\": \"\"\n      }\n    }\n  ]\n}"
            }
          },
          "metadata": {},
          "execution_count": 16
        }
      ]
    },
    {
      "cell_type": "markdown",
      "source": [
        "## **E. Data Preparation**\n",
        "Tahap ini bertujuan untuk menyiapkan dataset agar siap digunakan dalam proses pemodelan machine learning. Proses ini meliputi pembersihan data, pemilihan fitur yang relevan, serta pembagian data menjadi data latih dan data uji. Langkah-langkah pada tahap ini dilakukan untuk memastikan bahwa data yang digunakan bersih, terstruktur, dan representatif terhadap permasalahan yang akan diselesaikan.\n"
      ],
      "metadata": {
        "id": "GIKjDQcoo78y"
      }
    },
    {
      "cell_type": "markdown",
      "source": [
        "### 1. Pembersihan Data  \n",
        "Tahap ini dilakukan untuk memastikan dataset bersih dan layak digunakan dalam proses pemodelan.\n",
        "Langkah-langkah yang dilakukan meliputi:\n",
        "\n",
        "- Menghapus kolom yang tidak relevan atau memiliki korelasi rendah terhadap variabel target yaitu A_id, Weight, Crunchiness, dan Acidity.\n",
        "\n",
        "- Menghapus kolom Quality karena telah dikonversi ke dalam bentuk numerik (Quality_num).\n",
        "\n",
        "- Menghapus baris terakhir yang berisi informasi non-data seperti teks “created by”.\n",
        "\n",
        "- Menghapus baris yang mengandung nilai kosong (NaN) untuk menjaga konsistensi dan integritas data.\n"
      ],
      "metadata": {
        "id": "oREhlBgWrERI"
      }
    },
    {
      "cell_type": "code",
      "source": [
        "# Menghapus kolom yang tidak relevan atau memiliki korelasi rendah\n",
        "df.drop([\n",
        "    'Quality',       # Sudah dikonversi ke format numerik (Quality_num)\n",
        "    'A_id',          # Kolom identitas, tidak berpengaruh terhadap prediksi\n",
        "    'Weight',        # Fitur dengan korelasi rendah terhadap target\n",
        "    'Crunchiness',   # Fitur dengan korelasi rendah terhadap target\n",
        "    'Acidity'        # Fitur dengan korelasi rendah terhadap target\n",
        "], axis=1, inplace=True)\n",
        "\n",
        "# Menghapus baris terakhir pada dataset\n",
        "df = df.drop(df.index[-1])\n",
        "\n",
        "# Menghapus baris yang mengandung nilai kosong (NaN)\n",
        "df = df.dropna()"
      ],
      "metadata": {
        "id": "Ahx6DVo48Azh"
      },
      "execution_count": 17,
      "outputs": []
    },
    {
      "cell_type": "markdown",
      "source": [
        "### 2. Pemisahan Fitur dan Data Uji  \n",
        "Memisahkan variabel fitur (X) dan target (y), kemudian membagi data menjadi 80% untuk pelatihan dan 20% untuk pengujian guna menjaga proporsi kelas dan validitas evaluasi model.\n"
      ],
      "metadata": {
        "id": "yHbOWgz9srOH"
      }
    },
    {
      "cell_type": "code",
      "source": [
        "# Memisahkan fitur (X) dan target (y)\n",
        "X = df.drop(columns=['Quality', 'Quality_num'], errors='ignore')\n",
        "y = df['Quality_num']\n",
        "\n",
        "# Membagi data menjadi data latih (80%) dan data uji (20%)\n",
        "X_train, X_test, y_train, y_test = train_test_split(\n",
        "    X, y,\n",
        "    test_size=0.2,\n",
        "    random_state=42,\n",
        "    stratify=y  # Menjaga proporsi kelas tetap seimbang\n",
        ")\n",
        "\n",
        "# Menampilkan ukuran data latih dan uji\n",
        "print(\"Train shape:\", X_train.shape, y_train.shape)\n",
        "print(\"Test  shape:\", X_test.shape, y_test.shape)"
      ],
      "metadata": {
        "colab": {
          "base_uri": "https://localhost:8080/"
        },
        "id": "IUgrPOpEonE2",
        "outputId": "f4bcd581-6bf8-4a4f-b09c-aecdc30f7013"
      },
      "execution_count": 18,
      "outputs": [
        {
          "output_type": "stream",
          "name": "stdout",
          "text": [
            "Train shape: (3200, 4) (3200,)\n",
            "Test  shape: (800, 4) (800,)\n"
          ]
        }
      ]
    },
    {
      "cell_type": "markdown",
      "source": [
        "###3. Hasil Preparation\n",
        "\n",
        "Dataset kini berisi 4.000 baris dan 5 kolom, yang terdiri dari empat fitur utama (Size, Sweetness, Juiciness, Ripeness) serta satu label target (Quality_num).\n",
        "Seluruh kolom kini bertipe numerik dan siap digunakan dalam proses pelatihan model machine learning."
      ],
      "metadata": {
        "id": "8cEZCrZeXDri"
      }
    },
    {
      "cell_type": "markdown",
      "source": [
        "##**F. Modelling**"
      ],
      "metadata": {
        "id": "nLCWtVyapUj1"
      }
    },
    {
      "cell_type": "code",
      "source": [
        "# Logistic Regression\n",
        "logreg = LogisticRegression(max_iter=1000, random_state=42)\n",
        "logreg.fit(X_train, y_train)\n",
        "y_pred_logreg = logreg.predict(X_test)"
      ],
      "metadata": {
        "id": "iswMmTkgupb8"
      },
      "execution_count": 19,
      "outputs": []
    },
    {
      "cell_type": "code",
      "source": [
        "# Random Forest\n",
        "rf = RandomForestClassifier(n_estimators=200, random_state=42)\n",
        "rf.fit(X_train, y_train)\n",
        "y_pred_rf = rf.predict(X_test)"
      ],
      "metadata": {
        "id": "q_ieOk9EusDE"
      },
      "execution_count": 20,
      "outputs": []
    },
    {
      "cell_type": "code",
      "source": [
        "# XGBoost\n",
        "xgb_model = xgb.XGBClassifier(eval_metric='logloss')\n",
        "xgb_model.fit(X_train, y_train)\n",
        "y_pred_xgb = xgb_model.predict(X_test)"
      ],
      "metadata": {
        "id": "kxBtWg-o8SMk"
      },
      "execution_count": 21,
      "outputs": []
    },
    {
      "cell_type": "markdown",
      "source": [
        "##**G. Evaluation**\n",
        "Evaluasi dilakukan untuk mengukur performa model dalam memprediksi kualitas apel berdasarkan data uji. Metrik yang digunakan meliputi akurasi, classification report, dan confusion matrix untuk menilai sejauh mana model mampu membedakan kelas good dan bad secara tepat.\n",
        "- Akurasi mengukur proporsi prediksi yang benar terhadap seluruh data uji sebagai indikator performa umum.\n",
        "- Classification report memberikan rincian nilai precision, recall, dan F1-score, yang masing-masing merepresentasikan ketepatan prediksi, kemampuan mengenali kelas sebenarnya, serta keseimbangan antara keduanya.\n",
        "- Sementara itu, confusion matrix menggambarkan distribusi prediksi benar dan salah pada setiap kelas, sehingga memudahkan analisis terhadap pola kesalahan model.\n",
        "\n",
        "Secara keseluruhan, kombinasi ketiga metrik tersebut memberikan gambaran komprehensif mengenai efektivitas model dalam melakukan klasifikasi kualitas apel secara akurat dan konsisten."
      ],
      "metadata": {
        "id": "e1B89caBxvcA"
      }
    },
    {
      "cell_type": "code",
      "source": [
        "# Fungsi evaluasi model\n",
        "def evaluate_model(name, y_true, y_pred):\n",
        "    print(f\"\\n=== {name} ===\")\n",
        "    print(f\"Akurasi: {accuracy_score(y_true, y_pred):.4f}\")\n",
        "    print(\"Classification Report:\")\n",
        "    print(classification_report(y_true, y_pred, digits=4))\n",
        "    sns.heatmap(confusion_matrix(y_true, y_pred), annot=True, fmt='d', cmap='Blues')\n",
        "    plt.title(f\"Confusion Matrix - {name}\")\n",
        "    plt.show()"
      ],
      "metadata": {
        "id": "eIFzUuRJxqfI"
      },
      "execution_count": 22,
      "outputs": []
    },
    {
      "cell_type": "code",
      "source": [
        "evaluate_model(\"Logistic Regression\", y_test, y_pred_logreg)"
      ],
      "metadata": {
        "colab": {
          "base_uri": "https://localhost:8080/",
          "height": 697
        },
        "id": "gyZjbfeNyKDS",
        "outputId": "75a0cc67-d367-4565-beab-d91a6071a0ea"
      },
      "execution_count": 23,
      "outputs": [
        {
          "output_type": "stream",
          "name": "stdout",
          "text": [
            "\n",
            "=== Logistic Regression ===\n",
            "Akurasi: 0.7100\n",
            "Classification Report:\n",
            "              precision    recall  f1-score   support\n",
            "\n",
            "         0.0     0.7203    0.6842    0.7018       399\n",
            "         1.0     0.7007    0.7357    0.7178       401\n",
            "\n",
            "    accuracy                         0.7100       800\n",
            "   macro avg     0.7105    0.7099    0.7098       800\n",
            "weighted avg     0.7105    0.7100    0.7098       800\n",
            "\n"
          ]
        },
        {
          "output_type": "display_data",
          "data": {
            "text/plain": [
              "<Figure size 640x480 with 2 Axes>"
            ],
            "image/png": "[encoded data removed]"
          },
          "metadata": {}
        }
      ]
    },
    {
      "cell_type": "code",
      "source": [
        "evaluate_model(\"Random Forest\", y_test, y_pred_rf)"
      ],
      "metadata": {
        "colab": {
          "base_uri": "https://localhost:8080/",
          "height": 697
        },
        "id": "UtbLMk6qyOaf",
        "outputId": "090aef90-3df9-416c-88fc-dc036bd57328"
      },
      "execution_count": 24,
      "outputs": [
        {
          "output_type": "stream",
          "name": "stdout",
          "text": [
            "\n",
            "=== Random Forest ===\n",
            "Akurasi: 0.7837\n",
            "Classification Report:\n",
            "              precision    recall  f1-score   support\n",
            "\n",
            "         0.0     0.7943    0.7644    0.7791       399\n",
            "         1.0     0.7740    0.8030    0.7882       401\n",
            "\n",
            "    accuracy                         0.7837       800\n",
            "   macro avg     0.7842    0.7837    0.7837       800\n",
            "weighted avg     0.7841    0.7837    0.7837       800\n",
            "\n"
          ]
        },
        {
          "output_type": "display_data",
          "data": {
            "text/plain": [
              "<Figure size 640x480 with 2 Axes>"
            ],
            "image/png": "[encoded data removed]"
          },
          "metadata": {}
        }
      ]
    },
    {
      "cell_type": "code",
      "source": [
        "evaluate_model(\"XGBoost\", y_test, y_pred_xgb)"
      ],
      "metadata": {
        "colab": {
          "base_uri": "https://localhost:8080/",
          "height": 697
        },
        "id": "6bVmL3fwyQ2y",
        "outputId": "2d34927b-2b31-4c4c-e5d5-23b5b312f795"
      },
      "execution_count": 25,
      "outputs": [
        {
          "output_type": "stream",
          "name": "stdout",
          "text": [
            "\n",
            "=== XGBoost ===\n",
            "Akurasi: 0.7762\n",
            "Classification Report:\n",
            "              precision    recall  f1-score   support\n",
            "\n",
            "         0.0     0.7880    0.7544    0.7708       399\n",
            "         1.0     0.7656    0.7980    0.7814       401\n",
            "\n",
            "    accuracy                         0.7762       800\n",
            "   macro avg     0.7768    0.7762    0.7761       800\n",
            "weighted avg     0.7767    0.7762    0.7761       800\n",
            "\n"
          ]
        },
        {
          "output_type": "display_data",
          "data": {
            "text/plain": [
              "<Figure size 640x480 with 2 Axes>"
            ],
            "image/png": "[encoded data removed]"
          },
          "metadata": {}
        }
      ]
    },
    {
      "cell_type": "markdown",
      "source": [
        "##**H. Kesimpulan**"
      ],
      "metadata": {
        "id": "b_tVGv0CmbV3"
      }
    },
    {
      "cell_type": "markdown",
      "source": [
        "Proyek Apple Quality Classification berhasil mengimplementasikan algoritma machine learning untuk mengklasifikasikan mutu apel berdasarkan karakteristik fisik dan sensorik. Melalui tahapan terstruktur mulai dari pemahaman masalah, eksplorasi data, pembersihan, pemodelan, hingga evaluasi, diperoleh hasil bahwa model XGBoost memberikan performa terbaik dengan akurasi 77,8%, mengungguli Random Forest dan Logistic Regression.\n",
        "\n",
        "Analisis korelasi menunjukkan bahwa fitur Size, Sweetness, Juiciness, dan Ripeness memiliki pengaruh dominan terhadap kualitas apel, sedangkan Weight, Crunchiness, dan Acidity berkontribusi rendah. Temuan ini memperkuat bahwa atribut fisik dan rasa merupakan faktor utama dalam menentukan mutu buah.\n",
        "\n",
        "Secara keseluruhan, penerapan machine learning terbukti mampu meningkatkan efisiensi dan objektivitas proses penilaian mutu hasil pertanian. Ke depan, model dapat dioptimalkan melalui hyperparameter tuning untuk meningkatkan akurasi dan generalisasi, serta dikembangkan dengan menambahkan fitur berbasis citra atau sensor non-destruktif agar sistem klasifikasi lebih adaptif terhadap kondisi nyata di industri pertanian modern."
      ],
      "metadata": {
        "id": "Vzrj0Zh9bkiO"
      }
    }
  ]
}